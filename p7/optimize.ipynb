{
 "cells": [
  {
   "cell_type": "code",
   "execution_count": 1,
   "id": "involved-membrane",
   "metadata": {},
   "outputs": [],
   "source": [
    "import pandas as pd\n",
    "from sklearn.model_selection import train_test_split, cross_val_score\n",
    "from sklearn.linear_model import LogisticRegression\n",
    "from sklearn.pipeline import Pipeline\n",
    "from sklearn.preprocessing import PolynomialFeatures, OneHotEncoder\n",
    "from sklearn.compose import make_column_transformer\n",
    "import copy\n",
    "from pandas import Series\n",
    "import netaddr, time, sys, json, zipfile, csv, geopandas, re, os\n",
    "import pandas as pd\n",
    "from zipfile import ZipFile\n",
    "from io import TextIOWrapper, BytesIO\n",
    "from collections import defaultdict\n",
    "from matplotlib import pyplot as plt"
   ]
  },
  {
   "cell_type": "code",
   "execution_count": 2,
   "id": "labeled-minnesota",
   "metadata": {},
   "outputs": [],
   "source": [
    "train_users = pd.read_csv(\"data/train_users.csv\")\n",
    "train_logs = pd.read_csv(\"data/train_logs.csv\")\n",
    "train_y = pd.read_csv(\"data/train_y.csv\")\n",
    "test_users = pd.read_csv(\"data/test1_users.csv\")\n",
    "test_logs = pd.read_csv(\"data/test1_logs.csv\")\n",
    "test_y = pd.read_csv(\"data/test1_y.csv\")\n",
    "ips = pd.read_csv(\"data/ip2location.csv\")"
   ]
  },
  {
   "cell_type": "code",
   "execution_count": 9,
   "id": "english-magnet",
   "metadata": {},
   "outputs": [],
   "source": [
    "class UserPredictor():\n",
    "    def fit(self, users, logs, ys):\n",
    "        self.users = self.total_min_ips(users, logs)\n",
    "        self.users = self.ip_to_country(self.users)\n",
    "        self.merged = pd.merge(left=self.users, right=ys, left_on=\"id\", right_on=\"id\")\n",
    "        self.pipeline = Pipeline([\n",
    "    (\"both\", make_column_transformer((OneHotEncoder(), [\"badge\", \"age\", \"country\"]), \n",
    "                                     (PolynomialFeatures(degree=1, include_bias=False), [\"past_purchase_amt\", \"total_min\", \"avg_minutes\", \"num_visited\"]), remainder=\"passthrough\")),\n",
    "    (\"lr\", LogisticRegression(max_iter=1025))\n",
    "])\n",
    "        self.pipeline.fit(self.merged[[\"badge\", \"age\", \"country\", \"past_purchase_amt\", \"total_min\", \"avg_minutes\", \"num_visited\"]], self.merged[\"y\"])\n",
    "    \n",
    "    def predict(self, users, logs):\n",
    "        self.users = self.total_min_ips(users, logs)\n",
    "        self.users = self.ip_to_country(self.users)\n",
    "        self.users[\"predicted\"] = self.pipeline.predict(self.users[[\"badge\", \"age\", \"country\", \"past_purchase_amt\", \"total_min\", \"avg_minutes\", \"num_visited\"]])\n",
    "        return self.users[\"predicted\"].values\n",
    "    \n",
    "    def total_min_ips(self, users, logs):\n",
    "        avg = []\n",
    "        num = []\n",
    "        total = []\n",
    "        net = []\n",
    "        ids = list(users[\"id\"].values)\n",
    "        for id_ in ids: \n",
    "            test = logs[logs[\"id\"] == id_]\n",
    "            total.append(test[\"minutes_on_page\"].sum())\n",
    "            avg.append(test[\"minutes_on_page\"].mean())\n",
    "            num.append(len(test))\n",
    "            try:\n",
    "                net.append(int(netaddr.IPAddress(test[\"ip_address\"].values[-1])))\n",
    "            except:\n",
    "                net.append(0)\n",
    "        users[\"avg_minutes\"] = avg\n",
    "        users[\"total_min\"] = total\n",
    "        users[\"num_visited\"] = num\n",
    "        users[\"netaddr\"] = net\n",
    "        return users.fillna(0)\n",
    "        \n",
    "    \n",
    "    def ip_to_country(self, df):\n",
    "        df = df.sort_values(\"netaddr\")\n",
    "        countries = list()\n",
    "        ip_idx = 0\n",
    "        for ip in df[\"netaddr\"]:\n",
    "            for low in ips[\"low\"][ip_idx:]:\n",
    "                if low <= ip <= ips[\"high\"][ip_idx]:\n",
    "                    countries.append(ips[\"region\"][ip_idx])\n",
    "                    break\n",
    "                else:\n",
    "                    ip_idx += 1\n",
    "        df[\"country\"] = countries\n",
    "        return df.sort_values(\"id\")\n",
    "    "
   ]
  },
  {
   "cell_type": "code",
   "execution_count": 10,
   "id": "congressional-lawrence",
   "metadata": {},
   "outputs": [],
   "source": [
    "model = UserPredictor()\n",
    "train_users = pd.read_csv(\"data/train_users.csv\")\n",
    "train_logs = pd.read_csv(\"data/train_logs.csv\")\n",
    "train_y = pd.read_csv(\"data/train_y.csv\")"
   ]
  },
  {
   "cell_type": "code",
   "execution_count": 11,
   "id": "progressive-aaron",
   "metadata": {},
   "outputs": [],
   "source": [
    "model.fit(train_users, train_logs, train_y)"
   ]
  },
  {
   "cell_type": "code",
   "execution_count": 12,
   "id": "taken-boards",
   "metadata": {},
   "outputs": [],
   "source": [
    "test_users = pd.read_csv(\"data/test1_users.csv\")\n",
    "test_logs = pd.read_csv(\"data/test1_logs.csv\")"
   ]
  },
  {
   "cell_type": "code",
   "execution_count": 13,
   "id": "patent-fireplace",
   "metadata": {},
   "outputs": [
    {
     "data": {
      "text/plain": [
       "array([0, 0, 1, ..., 0, 1, 1])"
      ]
     },
     "execution_count": 13,
     "metadata": {},
     "output_type": "execute_result"
    }
   ],
   "source": [
    "y_pred = model.predict(test_users, test_logs)\n",
    "y_pred"
   ]
  },
  {
   "cell_type": "code",
   "execution_count": null,
   "id": "surrounded-maine",
   "metadata": {},
   "outputs": [],
   "source": []
  }
 ],
 "metadata": {
  "kernelspec": {
   "display_name": "Python 3",
   "language": "python",
   "name": "python3"
  },
  "language_info": {
   "codemirror_mode": {
    "name": "ipython",
    "version": 3
   },
   "file_extension": ".py",
   "mimetype": "text/x-python",
   "name": "python",
   "nbconvert_exporter": "python",
   "pygments_lexer": "ipython3",
   "version": "3.6.9"
  }
 },
 "nbformat": 4,
 "nbformat_minor": 5
}
