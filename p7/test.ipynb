{
 "cells": [
  {
   "cell_type": "code",
   "execution_count": 1,
   "id": "enabling-solution",
   "metadata": {},
   "outputs": [],
   "source": [
    "import pandas as pd\n",
    "import time"
   ]
  },
  {
   "cell_type": "code",
   "execution_count": 2,
   "id": "collaborative-favor",
   "metadata": {},
   "outputs": [],
   "source": [
    "from main import UserPredictor\n",
    "model = UserPredictor()\n",
    "train_users = pd.read_csv(\"data/train_users.csv\")\n",
    "train_logs = pd.read_csv(\"data/train_logs.csv\")\n",
    "train_y = pd.read_csv(\"data/train_y.csv\")"
   ]
  },
  {
   "cell_type": "code",
   "execution_count": 3,
   "id": "excess-louis",
   "metadata": {},
   "outputs": [
    {
     "name": "stdout",
     "output_type": "stream",
     "text": [
      "70.49316000938416\n"
     ]
    }
   ],
   "source": [
    "t0 = time.time()\n",
    "model.fit(train_users, train_logs, train_y)\n",
    "print(time.time() - t0)"
   ]
  },
  {
   "cell_type": "code",
   "execution_count": 4,
   "id": "treated-center",
   "metadata": {},
   "outputs": [],
   "source": [
    "test_users = pd.read_csv(\"data/test1_users.csv\")\n",
    "test_logs = pd.read_csv(\"data/test1_logs.csv\")"
   ]
  },
  {
   "cell_type": "code",
   "execution_count": 5,
   "id": "portable-accommodation",
   "metadata": {},
   "outputs": [
    {
     "name": "stdout",
     "output_type": "stream",
     "text": [
      "88.54996180534363\n"
     ]
    }
   ],
   "source": [
    "t0 = time.time()\n",
    "y_pred = model.predict(test_users, test_logs)\n",
    "print(time.time()-t0)"
   ]
  },
  {
   "cell_type": "code",
   "execution_count": 6,
   "id": "celtic-lottery",
   "metadata": {},
   "outputs": [
    {
     "data": {
      "text/plain": [
       "array([0, 0, 1, ..., 0, 1, 1])"
      ]
     },
     "execution_count": 6,
     "metadata": {},
     "output_type": "execute_result"
    }
   ],
   "source": [
    "y_pred"
   ]
  },
  {
   "cell_type": "code",
   "execution_count": null,
   "id": "working-interest",
   "metadata": {},
   "outputs": [],
   "source": []
  }
 ],
 "metadata": {
  "kernelspec": {
   "display_name": "Python 3",
   "language": "python",
   "name": "python3"
  },
  "language_info": {
   "codemirror_mode": {
    "name": "ipython",
    "version": 3
   },
   "file_extension": ".py",
   "mimetype": "text/x-python",
   "name": "python",
   "nbconvert_exporter": "python",
   "pygments_lexer": "ipython3",
   "version": "3.6.9"
  }
 },
 "nbformat": 4,
 "nbformat_minor": 5
}
