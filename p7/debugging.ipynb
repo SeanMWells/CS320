{
 "cells": [
  {
   "cell_type": "code",
   "execution_count": 1,
   "id": "worldwide-philadelphia",
   "metadata": {},
   "outputs": [],
   "source": [
    "import netaddr, copy\n",
    "import pandas as pd\n",
    "from pandas import Series\n",
    "from sklearn.model_selection import train_test_split, cross_val_score\n",
    "from sklearn.linear_model import LogisticRegression\n",
    "from sklearn.pipeline import Pipeline\n",
    "from sklearn.preprocessing import PolynomialFeatures, OneHotEncoder\n",
    "from sklearn.compose import make_column_transformer"
   ]
  },
  {
   "cell_type": "code",
   "execution_count": 2,
   "id": "funny-ending",
   "metadata": {},
   "outputs": [],
   "source": [
    "train_users = pd.read_csv(\"data/train_users.csv\")\n",
    "train_logs = pd.read_csv(\"data/train_logs.csv\")\n",
    "train_y = pd.read_csv(\"data/train_y.csv\")\n",
    "ips = pd.read_csv(\"data/ip2location.csv\")\n",
    "#model.fit(train_users, train_logs, train_y)"
   ]
  },
  {
   "cell_type": "code",
   "execution_count": 10,
   "id": "viral-cleaner",
   "metadata": {},
   "outputs": [],
   "source": [
    "class UserPredictor():\n",
    "    def fit(self, users, logs, ys):\n",
    "        self.users = self.total_min_ips(users, logs)\n",
    "        self.users = self.ip_to_country(self.users)\n",
    "        self.merged = pd.merge(left=self.users, right=ys, left_on=\"id\", right_on=\"id\")\n",
    "        self.pipeline = Pipeline([\n",
    "    (\"both\", make_column_transformer((OneHotEncoder(), [\"badge\", \"age\", \"country\"]), \n",
    "                                     (PolynomialFeatures(degree=1, include_bias=False), [\"past_purchase_amt\", \"total_min\", \"avg_minutes\", \"num_visited\"]), remainder=\"passthrough\")),\n",
    "    (\"lr\", LogisticRegression(max_iter=1025))\n",
    "])\n",
    "        self.pipeline.fit(self.merged[[\"badge\", \"age\", \"country\", \"past_purchase_amt\", \"total_min\", \"avg_minutes\", \"num_visited\"]], self.merged[\"y\"])\n",
    "    \n",
    "    def predict(self, users, logs):\n",
    "        self.users = self.total_min_ips(users, logs)\n",
    "        self.users = self.ip_to_country(self.users)\n",
    "        self.users[\"predicted\"] = self.pipeline.predict(self.users[[\"badge\", \"age\", \"country\", \"past_purchase_amt\", \"total_min\", \"avg_minutes\", \"num_visited\"]])\n",
    "        return self.users[\"predicted\"].values\n",
    "    \n",
    "    def total_min_ips(self, users, logs):    \n",
    "        minutes = {}\n",
    "        avg_min = {}\n",
    "        num_visited = {}\n",
    "        netaddrs = {}\n",
    "        ids = set(users[\"id\"])\n",
    "        for id_ in ids:\n",
    "            minutes[id_] = logs[logs[\"id\"] == id_][\"minutes_on_page\"].sum()\n",
    "            avg_min[id_] = logs[logs[\"id\"] == id_][\"minutes_on_page\"].mean()\n",
    "            num_visited[id_] = len(logs[logs[\"id\"] == id_])\n",
    "            try:\n",
    "                netaddrs[id_] = int(netaddr.IPAddress(logs[logs[\"id\"] == id_][\"ip_address\"].values[-1]))\n",
    "            except:\n",
    "                netaddrs[id_] = 0\n",
    "        users[\"total_min\"] = minutes.values()\n",
    "        users[\"avg_minutes\"] = avg_min.values()\n",
    "        users[\"num_visited\"] = num_visited.values()\n",
    "        users[\"netaddr\"] = netaddrs.values()\n",
    "        return users.fillna(0)\n",
    "    \n",
    "    def ip_to_country(self, df):\n",
    "        df = df.sort_values(\"netaddr\")\n",
    "        countries = list()\n",
    "        ip_idx = 0\n",
    "        for ip in df[\"netaddr\"]:\n",
    "            for low in ips[\"low\"][ip_idx:]:\n",
    "                if low <= ip <= ips[\"high\"][ip_idx]:\n",
    "                    countries.append(ips[\"region\"][ip_idx])\n",
    "                    break\n",
    "                else:\n",
    "                    ip_idx += 1\n",
    "        df[\"country\"] = countries\n",
    "        return df.sort_values(\"id\")"
   ]
  },
  {
   "cell_type": "code",
   "execution_count": 11,
   "id": "russian-electric",
   "metadata": {},
   "outputs": [],
   "source": [
    "model = UserPredictor()"
   ]
  },
  {
   "cell_type": "code",
   "execution_count": 5,
   "id": "ceramic-spoke",
   "metadata": {},
   "outputs": [
    {
     "name": "stderr",
     "output_type": "stream",
     "text": [
      "/home/seanwells/.local/lib/python3.6/site-packages/sklearn/linear_model/_logistic.py:765: ConvergenceWarning: lbfgs failed to converge (status=1):\n",
      "STOP: TOTAL NO. of ITERATIONS REACHED LIMIT.\n",
      "\n",
      "Increase the number of iterations (max_iter) or scale the data as shown in:\n",
      "    https://scikit-learn.org/stable/modules/preprocessing.html\n",
      "Please also refer to the documentation for alternative solver options:\n",
      "    https://scikit-learn.org/stable/modules/linear_model.html#logistic-regression\n",
      "  extra_warning_msg=_LOGISTIC_SOLVER_CONVERGENCE_MSG)\n"
     ]
    }
   ],
   "source": [
    "model.fit(train_users, train_logs, train_y)"
   ]
  },
  {
   "cell_type": "code",
   "execution_count": 6,
   "id": "analyzed-rehabilitation",
   "metadata": {},
   "outputs": [],
   "source": [
    "test_users = pd.read_csv(\"data/test1_users.csv\")\n",
    "test_logs = pd.read_csv(\"data/test1_logs.csv\")"
   ]
  },
  {
   "cell_type": "code",
   "execution_count": 7,
   "id": "collectible-shipping",
   "metadata": {},
   "outputs": [],
   "source": [
    "y_pred = model.predict(test_users, test_logs)"
   ]
  },
  {
   "cell_type": "code",
   "execution_count": 9,
   "id": "basic-mounting",
   "metadata": {},
   "outputs": [
    {
     "data": {
      "text/plain": [
       "20000"
      ]
     },
     "execution_count": 9,
     "metadata": {},
     "output_type": "execute_result"
    }
   ],
   "source": [
    "len(y_pred)"
   ]
  }
 ],
 "metadata": {
  "kernelspec": {
   "display_name": "Python 3",
   "language": "python",
   "name": "python3"
  },
  "language_info": {
   "codemirror_mode": {
    "name": "ipython",
    "version": 3
   },
   "file_extension": ".py",
   "mimetype": "text/x-python",
   "name": "python",
   "nbconvert_exporter": "python",
   "pygments_lexer": "ipython3",
   "version": "3.6.9"
  }
 },
 "nbformat": 4,
 "nbformat_minor": 5
}
