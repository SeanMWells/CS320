{
 "cells": [
  {
   "cell_type": "code",
   "execution_count": 1,
   "id": "signal-banking",
   "metadata": {},
   "outputs": [],
   "source": [
    "import netaddr, time, sys, json, zipfile, csv\n",
    "import pandas as pd\n",
    "from zipfile import ZipFile\n",
    "from io import TextIOWrapper"
   ]
  },
  {
   "cell_type": "code",
   "execution_count": 2,
   "id": "powerful-beach",
   "metadata": {},
   "outputs": [
    {
     "data": {
      "text/plain": [
       "574835481"
      ]
     },
     "execution_count": 2,
     "metadata": {},
     "output_type": "execute_result"
    }
   ],
   "source": [
    "int(netaddr.IPAddress(\"34.67.75.25\"))"
   ]
  },
  {
   "cell_type": "code",
   "execution_count": 3,
   "id": "surgical-durham",
   "metadata": {},
   "outputs": [
    {
     "data": {
      "text/html": [
       "<div>\n",
       "<style scoped>\n",
       "    .dataframe tbody tr th:only-of-type {\n",
       "        vertical-align: middle;\n",
       "    }\n",
       "\n",
       "    .dataframe tbody tr th {\n",
       "        vertical-align: top;\n",
       "    }\n",
       "\n",
       "    .dataframe thead th {\n",
       "        text-align: right;\n",
       "    }\n",
       "</style>\n",
       "<table border=\"1\" class=\"dataframe\">\n",
       "  <thead>\n",
       "    <tr style=\"text-align: right;\">\n",
       "      <th></th>\n",
       "      <th>low</th>\n",
       "      <th>high</th>\n",
       "      <th>code</th>\n",
       "      <th>region</th>\n",
       "    </tr>\n",
       "  </thead>\n",
       "  <tbody>\n",
       "    <tr>\n",
       "      <th>0</th>\n",
       "      <td>0</td>\n",
       "      <td>16777215</td>\n",
       "      <td>-</td>\n",
       "      <td>-</td>\n",
       "    </tr>\n",
       "  </tbody>\n",
       "</table>\n",
       "</div>"
      ],
      "text/plain": [
       "   low      high code region\n",
       "0    0  16777215    -      -"
      ]
     },
     "execution_count": 3,
     "metadata": {},
     "output_type": "execute_result"
    }
   ],
   "source": [
    "df = pd.read_csv(\"ip2location.csv\")"
   ]
  },
  {
   "cell_type": "code",
   "execution_count": 4,
   "id": "ranging-hearing",
   "metadata": {},
   "outputs": [],
   "source": [
    "def test(ip_address):\n",
    "    result = []\n",
    "    for ip in ip_address:\n",
    "        t0 = time.time()\n",
    "        result_dict = {}\n",
    "        low = df[df[\"low\"] <= int(netaddr.IPAddress(ip))].reset_index()\n",
    "        high = low[df[\"high\"] >= int(netaddr.IPAddress(ip))].reset_index().drop(columns=[\"level_0\", \"index\"])\n",
    "        ms = time.time() - t0\n",
    "        result_dict[\"ip\"] = ip\n",
    "        result_dict[\"int_ip\"] = int(netaddr.IPAddress(ip))\n",
    "        result_dict[\"region\"] = high[\"region\"][0]\n",
    "        result_dict[\"ms\"] = ms\n",
    "        result.append(result_dict)\n",
    "    file = open(\"ips.txt\", \"w\")\n",
    "    string = str(result).replace(\"\\'\", \"\\\"\")\n",
    "    file.write(string)\n",
    "    file.close()\n",
    "    return string\n",
    "    \n",
    "    "
   ]
  },
  {
   "cell_type": "code",
   "execution_count": 5,
   "id": "whole-priority",
   "metadata": {
    "scrolled": false
   },
   "outputs": [
    {
     "name": "stderr",
     "output_type": "stream",
     "text": [
      "/home/seanwells/.local/lib/python3.6/site-packages/ipykernel_launcher.py:7: UserWarning: Boolean Series key will be reindexed to match DataFrame index.\n",
      "  import sys\n",
      "/home/seanwells/.local/lib/python3.6/site-packages/ipykernel_launcher.py:7: UserWarning: Boolean Series key will be reindexed to match DataFrame index.\n",
      "  import sys\n",
      "/home/seanwells/.local/lib/python3.6/site-packages/ipykernel_launcher.py:7: UserWarning: Boolean Series key will be reindexed to match DataFrame index.\n",
      "  import sys\n",
      "/home/seanwells/.local/lib/python3.6/site-packages/ipykernel_launcher.py:7: UserWarning: Boolean Series key will be reindexed to match DataFrame index.\n",
      "  import sys\n"
     ]
    },
    {
     "data": {
      "text/plain": [
       "'[{\"ip\": \"1.1.1.2\", \"int_ip\": 16843010, \"region\": \"United States of America\", \"ms\": 0.006490468978881836}, {\"ip\": \"9.9.9.9\", \"int_ip\": 151587081, \"region\": \"United States of America\", \"ms\": 0.0046155452728271484}, {\"ip\": \"1.1.1.1\", \"int_ip\": 16843009, \"region\": \"United States of America\", \"ms\": 0.004470348358154297}, {\"ip\": \"1.1.1.2\", \"int_ip\": 16843010, \"region\": \"United States of America\", \"ms\": 0.0040705204010009766}]'"
      ]
     },
     "execution_count": 5,
     "metadata": {},
     "output_type": "execute_result"
    }
   ],
   "source": [
    "test([\"1.1.1.2\",\"9.9.9.9\", \"1.1.1.1\", \"1.1.1.2\"])"
   ]
  },
  {
   "cell_type": "code",
   "execution_count": 6,
   "id": "atmospheric-updating",
   "metadata": {},
   "outputs": [],
   "source": [
    "df = pd.read_csv(\"ip2location.csv\")\n",
    "ip = \"34.67.75.25\""
   ]
  },
  {
   "cell_type": "code",
   "execution_count": 7,
   "id": "documentary-alberta",
   "metadata": {},
   "outputs": [
    {
     "data": {
      "text/plain": [
       "174972"
      ]
     },
     "execution_count": 7,
     "metadata": {},
     "output_type": "execute_result"
    }
   ],
   "source": [
    "len(df)"
   ]
  },
  {
   "cell_type": "code",
   "execution_count": 8,
   "id": "dense-suite",
   "metadata": {},
   "outputs": [],
   "source": [
    "ips = [\"1.1.1.1\",\"1.1.1.2\",\"9.9.9.9\",\"1.1.1.2\"]\n",
    "def ip_test(ips, index=0, result=[]):\n",
    "    while len(ips) > 0:\n",
    "        ip = ips.pop(0)\n",
    "        dic_t = {}\n",
    "        t0 = time.time()\n",
    "        for low in df[\"low\"][index:]:\n",
    "            if low <= int(netaddr.IPAddress(ip)):\n",
    "                index += 1\n",
    "        try:\n",
    "            assert (df[\"high\"][index-1] >= int(netaddr.IPAddress(ip)) and df[\"low\"][index-1] <= int(netaddr.IPAddress(ip))), \"int_ip not in range\"\n",
    "        except:\n",
    "            ip_test([ip],0,result)\n",
    "            continue\n",
    "        dic_t[\"ip\"] = ip \n",
    "        dic_t[\"int_ip\"] = int(netaddr.IPAddress(ip)) \n",
    "        dic_t[\"region\"] = df[\"region\"][index-1] \n",
    "        dic_t[\"ms\"] = (time.time() - t0) * 1000 \n",
    "        result.append(dic_t)\n",
    "        ip_test(ips, index-1, result)\n",
    "    return result"
   ]
  },
  {
   "cell_type": "code",
   "execution_count": 9,
   "id": "corresponding-questionnaire",
   "metadata": {},
   "outputs": [
    {
     "data": {
      "text/plain": [
       "[{'ip': '1.1.1.1',\n",
       "  'int_ip': 16843009,\n",
       "  'region': 'United States of America',\n",
       "  'ms': 801.7711639404297},\n",
       " {'ip': '1.1.1.2',\n",
       "  'int_ip': 16843010,\n",
       "  'region': 'United States of America',\n",
       "  'ms': 930.0129413604736},\n",
       " {'ip': '9.9.9.9',\n",
       "  'int_ip': 151587081,\n",
       "  'region': 'United States of America',\n",
       "  'ms': 808.7117671966553},\n",
       " {'ip': '1.1.1.2',\n",
       "  'int_ip': 16843010,\n",
       "  'region': 'United States of America',\n",
       "  'ms': 801.4926910400391}]"
      ]
     },
     "execution_count": 9,
     "metadata": {},
     "output_type": "execute_result"
    }
   ],
   "source": [
    "ip_test(ips)"
   ]
  },
  {
   "cell_type": "code",
   "execution_count": 10,
   "id": "stable-electric",
   "metadata": {
    "scrolled": true
   },
   "outputs": [
    {
     "data": {
      "text/plain": [
       "[{'ip': '1.1.1.1',\n",
       "  'int_ip': 16843009,\n",
       "  'region': 'United States of America',\n",
       "  'ms': 801.7711639404297},\n",
       " {'ip': '1.1.1.2',\n",
       "  'int_ip': 16843010,\n",
       "  'region': 'United States of America',\n",
       "  'ms': 930.0129413604736},\n",
       " {'ip': '9.9.9.9',\n",
       "  'int_ip': 151587081,\n",
       "  'region': 'United States of America',\n",
       "  'ms': 808.7117671966553},\n",
       " {'ip': '1.1.1.2',\n",
       "  'int_ip': 16843010,\n",
       "  'region': 'United States of America',\n",
       "  'ms': 801.4926910400391}]"
      ]
     },
     "execution_count": 10,
     "metadata": {},
     "output_type": "execute_result"
    }
   ],
   "source": [
    "ip_test(ips)"
   ]
  },
  {
   "cell_type": "code",
   "execution_count": 11,
   "id": "arctic-divorce",
   "metadata": {},
   "outputs": [],
   "source": [
    "def zip_csv_iter(name):\n",
    "    with ZipFile(name) as zf:\n",
    "        with zf.open(name.replace(\".zip\", \".csv\")) as f:\n",
    "            reader = csv.reader(TextIOWrapper(f))\n",
    "            for row in reader:\n",
    "                yield row"
   ]
  },
  {
   "cell_type": "code",
   "execution_count": 12,
   "id": "cooperative-earthquake",
   "metadata": {},
   "outputs": [],
   "source": [
    "zip1 = \"large.zip\"\n",
    "zip2 = \"small.zip\"\n",
    "\n",
    "def sorting(instance):\n",
    "    first_digits = int(instance[0].split(\".\")[0])\n",
    "    second_digits = int(instance[0].split(\".\")[1])\n",
    "    third_digits = int(instance[0].split(\".\")[2])\n",
    "    return (first_digits, second_digits, third_digits)\n",
    "\n",
    "def sampling(zip1, zip2, stride=30000):    \n",
    "    reader = zip_csv_iter(zip1)\n",
    "    header = next(reader) # the list of all column names\n",
    "    header.append(\"region\")\n",
    "    ip_idx = header.index(\"ip\")\n",
    "    samples = []\n",
    "    while True:\n",
    "        row = next(reader)\n",
    "        ip_str = \"\"\n",
    "        for character in row[ip_idx]:\n",
    "            if character.isalpha():\n",
    "                ip_str += \"0\"\n",
    "            else:\n",
    "                ip_str += character \n",
    "        row.append(ip_test([ip_str])[-1][\"region\"])\n",
    "        samples.append(row)\n",
    "        for i in range(int(stride)-1):\n",
    "            try:\n",
    "                next(reader)\n",
    "            except StopIteration:\n",
    "                samples.sort(key=sorting)\n",
    "                print(samples)\n",
    "                with ZipFile(zip2, \"w\") as zf:\n",
    "                    with zf.open(zip2.replace(\".zip\", \".csv\"), \"w\") as raw:\n",
    "                        with TextIOWrapper(raw) as f:\n",
    "                            writer = csv.writer(f, lineterminator='\\n')\n",
    "                            writer.writerow(header) # write the row of column names to zip2\n",
    "                            for row in samples:\n",
    "                                writer.writerow(row) # write a row to zip2\n",
    "                return"
   ]
  },
  {
   "cell_type": "code",
   "execution_count": 13,
   "id": "continuous-offer",
   "metadata": {
    "scrolled": false
   },
   "outputs": [
    {
     "name": "stdout",
     "output_type": "stream",
     "text": [
      "[['52.45.218.ihf', '2017-01-01', '10:23:25', '0.0', '827156.0', '0001341522-06-000030', '.txt', '200.0', '5974.0', '0.0', '0.0', '0.0', '10.0', '0.0', '', 'United States of America'], ['54.212.94.jcd', '2017-01-01', '03:31:36', '0.0', '1461219.0', '0000000000-13-001261', '-index.htm', '301.0', '243.0', '1.0', '0.0', '1.0', '10.0', '0.0', '', 'United States of America'], ['104.197.32.ihd', '2017-01-01', '00:00:00', '0.0', '1111711.0', '0001193125-12-324016', '-index.htm', '200.0', '7627.0', '1.0', '0.0', '0.0', '10.0', '0.0', '', 'United States of America'], ['107.23.181.jje', '2017-01-01', '07:01:00', '0.0', '1330399.0', '0001299933-16-003371', 'edgar/data/1330399/-', '200.0', '7065.0', '1.0', '0.0', '0.0', '10.0', '0.0', '', 'United States of America'], ['107.178.195.bbb', '2017-01-01', '19:57:16', '0.0', '1584509.0', '0001584509-16-000514', 'armk-20160930_pre.xml', '200.0', '68682.0', '0.0', '0.0', '0.0', '10.0', '0.0', '', 'United States of America'], ['157.55.39.eja', '2017-01-01', '15:07:47', '0.0', '1030469.0', '0000950144-09-002256', 'g18073exv31w2.htm', '301.0', '625.0', '0.0', '0.0', '0.0', '10.0', '0.0', '', 'United States of America']]\n"
     ]
    }
   ],
   "source": [
    "sampling(\"large.zip\", \"small_samp.zip\", 30000)"
   ]
  },
  {
   "cell_type": "code",
   "execution_count": 14,
   "id": "headed-potato",
   "metadata": {},
   "outputs": [
    {
     "name": "stdout",
     "output_type": "stream",
     "text": [
      "['52.45.218.ihf', '2017-01-01', '10:23:25', '0.0', '827156.0', '0001341522-06-000030', '.txt', '200.0', '5974.0', '0.0', '0.0', '0.0', '10.0', '0.0', '', 'United States of America']\n",
      "['54.212.94.jcd', '2017-01-01', '03:31:36', '0.0', '1461219.0', '0000000000-13-001261', '-index.htm', '301.0', '243.0', '1.0', '0.0', '1.0', '10.0', '0.0', '', 'United States of America']\n",
      "['104.197.32.ihd', '2017-01-01', '00:00:00', '0.0', '1111711.0', '0001193125-12-324016', '-index.htm', '200.0', '7627.0', '1.0', '0.0', '0.0', '10.0', '0.0', '', 'United States of America']\n",
      "['107.23.181.jje', '2017-01-01', '07:01:00', '0.0', '1330399.0', '0001299933-16-003371', 'edgar/data/1330399/-', '200.0', '7065.0', '1.0', '0.0', '0.0', '10.0', '0.0', '', 'United States of America']\n",
      "['107.178.195.bbb', '2017-01-01', '19:57:16', '0.0', '1584509.0', '0001584509-16-000514', 'armk-20160930_pre.xml', '200.0', '68682.0', '0.0', '0.0', '0.0', '10.0', '0.0', '', 'United States of America']\n",
      "['157.55.39.eja', '2017-01-01', '15:07:47', '0.0', '1030469.0', '0000950144-09-002256', 'g18073exv31w2.htm', '301.0', '625.0', '0.0', '0.0', '0.0', '10.0', '0.0', '', 'United States of America']\n"
     ]
    }
   ],
   "source": [
    "reader = zip_csv_iter(\"small_samp.zip\")\n",
    "header = next(reader)\n",
    "for row in reader:\n",
    "    print(row)"
   ]
  },
  {
   "cell_type": "code",
   "execution_count": 69,
   "id": "blessed-japan",
   "metadata": {
    "scrolled": false
   },
   "outputs": [
    {
     "name": "stdout",
     "output_type": "stream",
     "text": [
      "['52.45.218.ihf', '2017-01-01', '10:23:25', '0.0', '827156.0', '0001341522-06-000030', '.txt', '200.0', '5974.0', '0.0', '0.0', '0.0', '10.0', '0.0', '', 'United States of America']\n",
      "['54.212.94.jcd', '2017-01-01', '03:31:36', '0.0', '1461219.0', '0000000000-13-001261', '-index.htm', '301.0', '243.0', '1.0', '0.0', '1.0', '10.0', '0.0', '', 'United States of America']\n",
      "['104.197.32.ihd', '2017-01-01', '00:00:00', '0.0', '1111711.0', '0001193125-12-324016', '-index.htm', '200.0', '7627.0', '1.0', '0.0', '0.0', '10.0', '0.0', '', 'United States of America']\n",
      "['107.23.181.jje', '2017-01-01', '07:01:00', '0.0', '1330399.0', '0001299933-16-003371', 'edgar/data/1330399/-', '200.0', '7065.0', '1.0', '0.0', '0.0', '10.0', '0.0', '', 'United States of America']\n",
      "['107.178.195.bbb', '2017-01-01', '19:57:16', '0.0', '1584509.0', '0001584509-16-000514', 'armk-20160930_pre.xml', '200.0', '68682.0', '0.0', '0.0', '0.0', '10.0', '0.0', '', 'United States of America']\n",
      "['157.55.39.eja', '2017-01-01', '15:07:47', '0.0', '1030469.0', '0000950144-09-002256', 'g18073exv31w2.htm', '301.0', '625.0', '0.0', '0.0', '0.0', '10.0', '0.0', '', 'United States of America']\n"
     ]
    }
   ],
   "source": [
    "reader = zip_csv_iter(\"small_samp.zip\")\n",
    "header = next(reader)\n",
    "ip_idx = header.index(\"ip\")\n",
    "reg_idx = header.index(\"region\")\n",
    "\n",
    "for row in reader:\n",
    "    print(row)"
   ]
  },
  {
   "cell_type": "code",
   "execution_count": 16,
   "id": "floating-detection",
   "metadata": {},
   "outputs": [
    {
     "data": {
      "text/plain": [
       "True"
      ]
     },
     "execution_count": 16,
     "metadata": {},
     "output_type": "execute_result"
    }
   ],
   "source": [
    "(9, 3) > (9, 2)"
   ]
  },
  {
   "cell_type": "code",
   "execution_count": 17,
   "id": "hearing-literature",
   "metadata": {},
   "outputs": [],
   "source": [
    "ips = [\"1.1.1.1\",\"1.1.1.2\",\"9.9.9.9\",\"1.1.1.2\"]\n",
    "def ip_test(ips, index=0, result=[]):\n",
    "    while len(ips) > 0:\n",
    "        ip = ips.pop(0)\n",
    "        dic_t = {}\n",
    "        t0 = time.time()\n",
    "        try:\n",
    "            assert (df[\"high\"][index] >= int(netaddr.IPAddress(ip)) and df[\"low\"][index] <= int(netaddr.IPAddress(ip))), \"int_ip not in range\"\n",
    "            dic_t[\"ip\"] = ip \n",
    "            dic_t[\"int_ip\"] = int(netaddr.IPAddress(ip)) \n",
    "            dic_t[\"region\"] = df[\"region\"][index] \n",
    "            dic_t[\"ms\"] = (time.time() - t0) * 1000 \n",
    "            result.append(dic_t)\n",
    "            ip_test(ips, index, result)\n",
    "        except:\n",
    "            for low in df[\"low\"][index:]:\n",
    "                if low <= int(netaddr.IPAddress(ip)):\n",
    "                    index += 1\n",
    "            try:\n",
    "                assert (df[\"high\"][index-1] >= int(netaddr.IPAddress(ip)) and df[\"low\"][index-1] <= int(netaddr.IPAddress(ip))), \"int_ip not in range\"\n",
    "            except:\n",
    "                ip_test([ip],0,result)\n",
    "                continue\n",
    "            dic_t[\"ip\"] = ip \n",
    "            dic_t[\"int_ip\"] = int(netaddr.IPAddress(ip)) \n",
    "            dic_t[\"region\"] = df[\"region\"][index-1] \n",
    "            dic_t[\"ms\"] = (time.time() - t0) * 1000 \n",
    "            result.append(dic_t)\n",
    "            ip_test(ips, index-1, result)\n",
    "    return result"
   ]
  },
  {
   "cell_type": "code",
   "execution_count": 18,
   "id": "involved-forest",
   "metadata": {},
   "outputs": [
    {
     "data": {
      "text/plain": [
       "[{'ip': '1.1.1.1',\n",
       "  'int_ip': 16843009,\n",
       "  'region': 'United States of America',\n",
       "  'ms': 941.9224262237549},\n",
       " {'ip': '1.1.1.2',\n",
       "  'int_ip': 16843010,\n",
       "  'region': 'United States of America',\n",
       "  'ms': 0.033855438232421875},\n",
       " {'ip': '9.9.9.9',\n",
       "  'int_ip': 151587081,\n",
       "  'region': 'United States of America',\n",
       "  'ms': 829.3788433074951},\n",
       " {'ip': '1.1.1.2',\n",
       "  'int_ip': 16843010,\n",
       "  'region': 'United States of America',\n",
       "  'ms': 801.3594150543213}]"
      ]
     },
     "execution_count": 18,
     "metadata": {},
     "output_type": "execute_result"
    }
   ],
   "source": [
    "ip_test(ips)"
   ]
  },
  {
   "cell_type": "code",
   "execution_count": 19,
   "id": "three-milton",
   "metadata": {},
   "outputs": [],
   "source": [
    "#old ip_test\n",
    "def ip_test(ips, index=0, result=[]):\n",
    "    while len(ips) > 0:\n",
    "        ip = ips.pop(0)\n",
    "        dic_t = {}\n",
    "        t0 = time.time()\n",
    "        for low in df[\"low\"][index:]:\n",
    "            if low <= int(netaddr.IPAddress(ip)):\n",
    "                index += 1\n",
    "        try:\n",
    "            assert (df[\"high\"][index-1] >= int(netaddr.IPAddress(ip)) and df[\"low\"][index-1] <= int(netaddr.IPAddress(ip))), \"int_ip not in range\"\n",
    "        except:\n",
    "            ip_test([ip],0,result)\n",
    "            break\n",
    "        dic_t[\"ip\"] = ip \n",
    "        dic_t[\"int_ip\"] = int(netaddr.IPAddress(ip)) \n",
    "        dic_t[\"region\"] = df[\"region\"][index-1] \n",
    "        dic_t[\"ms\"] = (time.time() - t0) / 1000\n",
    "        result.append(dic_t)\n",
    "        ip_test(ips, index-1, result)\n",
    "    return result"
   ]
  },
  {
   "cell_type": "code",
   "execution_count": 20,
   "id": "velvet-forum",
   "metadata": {},
   "outputs": [],
   "source": [
    "def ip_test(ips, index=0, result=list()):\n",
    "    for ip in ips:\n",
    "        dic_t = {}\n",
    "        t0 = time.time()\n",
    "        if (df[\"high\"][index] >= int(netaddr.IPAddress(ip))) and (df[\"low\"][index] <= int(netaddr.IPAddress(ip))):\n",
    "            dic_t[\"ip\"] = ip \n",
    "            dic_t[\"int_ip\"] = int(netaddr.IPAddress(ip)) \n",
    "            dic_t[\"region\"] = df[\"region\"][index] \n",
    "            dic_t[\"ms\"] = (time.time() - t0) * 1000\n",
    "            result.append(dic_t)\n",
    "        else:\n",
    "            print(\"2.0\")\n",
    "            try:    \n",
    "                for low in df[\"low\"]:\n",
    "                    if (low <= int(netaddr.IPAddress(ip))) and (df[\"high\"].at[index] >= int(netaddr.IPAddress(ip))):\n",
    "                        print(\"2\")\n",
    "                        dic_t[\"ip\"] = ip \n",
    "                        dic_t[\"int_ip\"] = int(netaddr.IPAddress(ip)) \n",
    "                        dic_t[\"region\"] = df[\"region\"][index] \n",
    "                        dic_t[\"ms\"] = (time.time() - t0) * 1000\n",
    "                        result.append(dic_t) \n",
    "                    else: \n",
    "                        index += 1\n",
    "            except KeyError:\n",
    "                ip_test([ip], 0, result)\n",
    "    return result"
   ]
  },
  {
   "cell_type": "code",
   "execution_count": 21,
   "id": "incoming-little",
   "metadata": {},
   "outputs": [
    {
     "name": "stdout",
     "output_type": "stream",
     "text": [
      "2.0\n",
      "2\n",
      "2.0\n",
      "2\n",
      "2\n",
      "2\n",
      "2\n",
      "2\n",
      "2\n",
      "2\n",
      "2\n",
      "2\n",
      "2\n",
      "2\n"
     ]
    },
    {
     "ename": "KeyError",
     "evalue": "349932",
     "output_type": "error",
     "traceback": [
      "\u001b[0;31m---------------------------------------------------------------------------\u001b[0m",
      "\u001b[0;31mValueError\u001b[0m                                Traceback (most recent call last)",
      "\u001b[0;32m~/.local/lib/python3.6/site-packages/pandas/core/indexes/range.py\u001b[0m in \u001b[0;36mget_loc\u001b[0;34m(self, key, method, tolerance)\u001b[0m\n\u001b[1;32m    354\u001b[0m                 \u001b[0;32mtry\u001b[0m\u001b[0;34m:\u001b[0m\u001b[0;34m\u001b[0m\u001b[0;34m\u001b[0m\u001b[0m\n\u001b[0;32m--> 355\u001b[0;31m                     \u001b[0;32mreturn\u001b[0m \u001b[0mself\u001b[0m\u001b[0;34m.\u001b[0m\u001b[0m_range\u001b[0m\u001b[0;34m.\u001b[0m\u001b[0mindex\u001b[0m\u001b[0;34m(\u001b[0m\u001b[0mnew_key\u001b[0m\u001b[0;34m)\u001b[0m\u001b[0;34m\u001b[0m\u001b[0;34m\u001b[0m\u001b[0m\n\u001b[0m\u001b[1;32m    356\u001b[0m                 \u001b[0;32mexcept\u001b[0m \u001b[0mValueError\u001b[0m \u001b[0;32mas\u001b[0m \u001b[0merr\u001b[0m\u001b[0;34m:\u001b[0m\u001b[0;34m\u001b[0m\u001b[0;34m\u001b[0m\u001b[0m\n",
      "\u001b[0;31mValueError\u001b[0m: 349932 is not in range",
      "\nThe above exception was the direct cause of the following exception:\n",
      "\u001b[0;31mKeyError\u001b[0m                                  Traceback (most recent call last)",
      "\u001b[0;32m<ipython-input-21-2e3cb937b0c5>\u001b[0m in \u001b[0;36m<module>\u001b[0;34m\u001b[0m\n\u001b[0;32m----> 1\u001b[0;31m \u001b[0mip_test\u001b[0m\u001b[0;34m(\u001b[0m\u001b[0;34m[\u001b[0m\u001b[0;34m\"1.1.1.1\"\u001b[0m\u001b[0;34m,\u001b[0m \u001b[0;34m\"1.1.1.2\"\u001b[0m\u001b[0;34m,\u001b[0m \u001b[0;34m\"9.9.9.9\"\u001b[0m\u001b[0;34m,\u001b[0m \u001b[0;34m\"1.1.1.2\"\u001b[0m\u001b[0;34m]\u001b[0m\u001b[0;34m)\u001b[0m\u001b[0;34m\u001b[0m\u001b[0;34m\u001b[0m\u001b[0m\n\u001b[0m",
      "\u001b[0;32m<ipython-input-20-b8d6ecbe4602>\u001b[0m in \u001b[0;36mip_test\u001b[0;34m(ips, index, result)\u001b[0m\n\u001b[1;32m      3\u001b[0m         \u001b[0mdic_t\u001b[0m \u001b[0;34m=\u001b[0m \u001b[0;34m{\u001b[0m\u001b[0;34m}\u001b[0m\u001b[0;34m\u001b[0m\u001b[0;34m\u001b[0m\u001b[0m\n\u001b[1;32m      4\u001b[0m         \u001b[0mt0\u001b[0m \u001b[0;34m=\u001b[0m \u001b[0mtime\u001b[0m\u001b[0;34m.\u001b[0m\u001b[0mtime\u001b[0m\u001b[0;34m(\u001b[0m\u001b[0;34m)\u001b[0m\u001b[0;34m\u001b[0m\u001b[0;34m\u001b[0m\u001b[0m\n\u001b[0;32m----> 5\u001b[0;31m         \u001b[0;32mif\u001b[0m \u001b[0;34m(\u001b[0m\u001b[0mdf\u001b[0m\u001b[0;34m[\u001b[0m\u001b[0;34m\"high\"\u001b[0m\u001b[0;34m]\u001b[0m\u001b[0;34m[\u001b[0m\u001b[0mindex\u001b[0m\u001b[0;34m]\u001b[0m \u001b[0;34m>=\u001b[0m \u001b[0mint\u001b[0m\u001b[0;34m(\u001b[0m\u001b[0mnetaddr\u001b[0m\u001b[0;34m.\u001b[0m\u001b[0mIPAddress\u001b[0m\u001b[0;34m(\u001b[0m\u001b[0mip\u001b[0m\u001b[0;34m)\u001b[0m\u001b[0;34m)\u001b[0m\u001b[0;34m)\u001b[0m \u001b[0;32mand\u001b[0m \u001b[0;34m(\u001b[0m\u001b[0mdf\u001b[0m\u001b[0;34m[\u001b[0m\u001b[0;34m\"low\"\u001b[0m\u001b[0;34m]\u001b[0m\u001b[0;34m[\u001b[0m\u001b[0mindex\u001b[0m\u001b[0;34m]\u001b[0m \u001b[0;34m<=\u001b[0m \u001b[0mint\u001b[0m\u001b[0;34m(\u001b[0m\u001b[0mnetaddr\u001b[0m\u001b[0;34m.\u001b[0m\u001b[0mIPAddress\u001b[0m\u001b[0;34m(\u001b[0m\u001b[0mip\u001b[0m\u001b[0;34m)\u001b[0m\u001b[0;34m)\u001b[0m\u001b[0;34m)\u001b[0m\u001b[0;34m:\u001b[0m\u001b[0;34m\u001b[0m\u001b[0;34m\u001b[0m\u001b[0m\n\u001b[0m\u001b[1;32m      6\u001b[0m             \u001b[0mdic_t\u001b[0m\u001b[0;34m[\u001b[0m\u001b[0;34m\"ip\"\u001b[0m\u001b[0;34m]\u001b[0m \u001b[0;34m=\u001b[0m \u001b[0mip\u001b[0m\u001b[0;34m\u001b[0m\u001b[0;34m\u001b[0m\u001b[0m\n\u001b[1;32m      7\u001b[0m             \u001b[0mdic_t\u001b[0m\u001b[0;34m[\u001b[0m\u001b[0;34m\"int_ip\"\u001b[0m\u001b[0;34m]\u001b[0m \u001b[0;34m=\u001b[0m \u001b[0mint\u001b[0m\u001b[0;34m(\u001b[0m\u001b[0mnetaddr\u001b[0m\u001b[0;34m.\u001b[0m\u001b[0mIPAddress\u001b[0m\u001b[0;34m(\u001b[0m\u001b[0mip\u001b[0m\u001b[0;34m)\u001b[0m\u001b[0;34m)\u001b[0m\u001b[0;34m\u001b[0m\u001b[0;34m\u001b[0m\u001b[0m\n",
      "\u001b[0;32m~/.local/lib/python3.6/site-packages/pandas/core/series.py\u001b[0m in \u001b[0;36m__getitem__\u001b[0;34m(self, key)\u001b[0m\n\u001b[1;32m    880\u001b[0m \u001b[0;34m\u001b[0m\u001b[0m\n\u001b[1;32m    881\u001b[0m         \u001b[0;32melif\u001b[0m \u001b[0mkey_is_scalar\u001b[0m\u001b[0;34m:\u001b[0m\u001b[0;34m\u001b[0m\u001b[0;34m\u001b[0m\u001b[0m\n\u001b[0;32m--> 882\u001b[0;31m             \u001b[0;32mreturn\u001b[0m \u001b[0mself\u001b[0m\u001b[0;34m.\u001b[0m\u001b[0m_get_value\u001b[0m\u001b[0;34m(\u001b[0m\u001b[0mkey\u001b[0m\u001b[0;34m)\u001b[0m\u001b[0;34m\u001b[0m\u001b[0;34m\u001b[0m\u001b[0m\n\u001b[0m\u001b[1;32m    883\u001b[0m \u001b[0;34m\u001b[0m\u001b[0m\n\u001b[1;32m    884\u001b[0m         \u001b[0;32mif\u001b[0m \u001b[0mis_hashable\u001b[0m\u001b[0;34m(\u001b[0m\u001b[0mkey\u001b[0m\u001b[0;34m)\u001b[0m\u001b[0;34m:\u001b[0m\u001b[0;34m\u001b[0m\u001b[0;34m\u001b[0m\u001b[0m\n",
      "\u001b[0;32m~/.local/lib/python3.6/site-packages/pandas/core/series.py\u001b[0m in \u001b[0;36m_get_value\u001b[0;34m(self, label, takeable)\u001b[0m\n\u001b[1;32m    988\u001b[0m \u001b[0;34m\u001b[0m\u001b[0m\n\u001b[1;32m    989\u001b[0m         \u001b[0;31m# Similar to Index.get_value, but we do not fall back to positional\u001b[0m\u001b[0;34m\u001b[0m\u001b[0;34m\u001b[0m\u001b[0;34m\u001b[0m\u001b[0m\n\u001b[0;32m--> 990\u001b[0;31m         \u001b[0mloc\u001b[0m \u001b[0;34m=\u001b[0m \u001b[0mself\u001b[0m\u001b[0;34m.\u001b[0m\u001b[0mindex\u001b[0m\u001b[0;34m.\u001b[0m\u001b[0mget_loc\u001b[0m\u001b[0;34m(\u001b[0m\u001b[0mlabel\u001b[0m\u001b[0;34m)\u001b[0m\u001b[0;34m\u001b[0m\u001b[0;34m\u001b[0m\u001b[0m\n\u001b[0m\u001b[1;32m    991\u001b[0m         \u001b[0;32mreturn\u001b[0m \u001b[0mself\u001b[0m\u001b[0;34m.\u001b[0m\u001b[0mindex\u001b[0m\u001b[0;34m.\u001b[0m\u001b[0m_get_values_for_loc\u001b[0m\u001b[0;34m(\u001b[0m\u001b[0mself\u001b[0m\u001b[0;34m,\u001b[0m \u001b[0mloc\u001b[0m\u001b[0;34m,\u001b[0m \u001b[0mlabel\u001b[0m\u001b[0;34m)\u001b[0m\u001b[0;34m\u001b[0m\u001b[0;34m\u001b[0m\u001b[0m\n\u001b[1;32m    992\u001b[0m \u001b[0;34m\u001b[0m\u001b[0m\n",
      "\u001b[0;32m~/.local/lib/python3.6/site-packages/pandas/core/indexes/range.py\u001b[0m in \u001b[0;36mget_loc\u001b[0;34m(self, key, method, tolerance)\u001b[0m\n\u001b[1;32m    355\u001b[0m                     \u001b[0;32mreturn\u001b[0m \u001b[0mself\u001b[0m\u001b[0;34m.\u001b[0m\u001b[0m_range\u001b[0m\u001b[0;34m.\u001b[0m\u001b[0mindex\u001b[0m\u001b[0;34m(\u001b[0m\u001b[0mnew_key\u001b[0m\u001b[0;34m)\u001b[0m\u001b[0;34m\u001b[0m\u001b[0;34m\u001b[0m\u001b[0m\n\u001b[1;32m    356\u001b[0m                 \u001b[0;32mexcept\u001b[0m \u001b[0mValueError\u001b[0m \u001b[0;32mas\u001b[0m \u001b[0merr\u001b[0m\u001b[0;34m:\u001b[0m\u001b[0;34m\u001b[0m\u001b[0;34m\u001b[0m\u001b[0m\n\u001b[0;32m--> 357\u001b[0;31m                     \u001b[0;32mraise\u001b[0m \u001b[0mKeyError\u001b[0m\u001b[0;34m(\u001b[0m\u001b[0mkey\u001b[0m\u001b[0;34m)\u001b[0m \u001b[0;32mfrom\u001b[0m \u001b[0merr\u001b[0m\u001b[0;34m\u001b[0m\u001b[0;34m\u001b[0m\u001b[0m\n\u001b[0m\u001b[1;32m    358\u001b[0m             \u001b[0;32mraise\u001b[0m \u001b[0mKeyError\u001b[0m\u001b[0;34m(\u001b[0m\u001b[0mkey\u001b[0m\u001b[0;34m)\u001b[0m\u001b[0;34m\u001b[0m\u001b[0;34m\u001b[0m\u001b[0m\n\u001b[1;32m    359\u001b[0m         \u001b[0;32mreturn\u001b[0m \u001b[0msuper\u001b[0m\u001b[0;34m(\u001b[0m\u001b[0;34m)\u001b[0m\u001b[0;34m.\u001b[0m\u001b[0mget_loc\u001b[0m\u001b[0;34m(\u001b[0m\u001b[0mkey\u001b[0m\u001b[0;34m,\u001b[0m \u001b[0mmethod\u001b[0m\u001b[0;34m=\u001b[0m\u001b[0mmethod\u001b[0m\u001b[0;34m,\u001b[0m \u001b[0mtolerance\u001b[0m\u001b[0;34m=\u001b[0m\u001b[0mtolerance\u001b[0m\u001b[0;34m)\u001b[0m\u001b[0;34m\u001b[0m\u001b[0;34m\u001b[0m\u001b[0m\n",
      "\u001b[0;31mKeyError\u001b[0m: 349932"
     ]
    }
   ],
   "source": [
    "ip_test([\"1.1.1.1\", \"1.1.1.2\", \"9.9.9.9\", \"1.1.1.2\"])"
   ]
  },
  {
   "cell_type": "code",
   "execution_count": null,
   "id": "incoming-orleans",
   "metadata": {},
   "outputs": [],
   "source": [
    "len(df)"
   ]
  },
  {
   "cell_type": "code",
   "execution_count": null,
   "id": "cognitive-david",
   "metadata": {},
   "outputs": [],
   "source": [
    "df[\"low\"][174972]"
   ]
  },
  {
   "cell_type": "code",
   "execution_count": 25,
   "id": "fitting-building",
   "metadata": {},
   "outputs": [],
   "source": [
    "def ip_test(ips, index=0, result=list()):\n",
    "    dic_t = {}\n",
    "    t0 = time.time()\n",
    "    for ip in ips:\n",
    "        while index <= 174972:\n",
    "            try:\n",
    "                assert (df[\"high\"][index] >= int(netaddr.IPAddress(ip)) and low <= int(netaddr.IPAddress(ip))), \"int_ip not in range\"\n",
    "                dic_t[\"ip\"] = ip \n",
    "                dic_t[\"int_ip\"] = int(netaddr.IPAddress(ip)) \n",
    "                dic_t[\"region\"] = df[\"region\"][index] \n",
    "                dic_t[\"ms\"] = (time.time() - t0) * 1000\n",
    "                result.append(dic_t)\n",
    "                index += 1\n",
    "            except:\n",
    "                index += 1\n",
    "    return result"
   ]
  },
  {
   "cell_type": "code",
   "execution_count": 26,
   "id": "potential-queens",
   "metadata": {},
   "outputs": [
    {
     "data": {
      "text/plain": [
       "[]"
      ]
     },
     "execution_count": 26,
     "metadata": {},
     "output_type": "execute_result"
    }
   ],
   "source": [
    "ips = [\"1.1.1.1\",\"1.1.1.2\",\"9.9.9.9\",\"1.1.1.2\"]\n",
    "ip_test(ips, 0, [])"
   ]
  },
  {
   "cell_type": "code",
   "execution_count": 32,
   "id": "rising-richmond",
   "metadata": {},
   "outputs": [
    {
     "data": {
      "text/html": [
       "<div>\n",
       "<style scoped>\n",
       "    .dataframe tbody tr th:only-of-type {\n",
       "        vertical-align: middle;\n",
       "    }\n",
       "\n",
       "    .dataframe tbody tr th {\n",
       "        vertical-align: top;\n",
       "    }\n",
       "\n",
       "    .dataframe thead th {\n",
       "        text-align: right;\n",
       "    }\n",
       "</style>\n",
       "<table border=\"1\" class=\"dataframe\">\n",
       "  <thead>\n",
       "    <tr style=\"text-align: right;\">\n",
       "      <th></th>\n",
       "      <th>low</th>\n",
       "      <th>high</th>\n",
       "      <th>code</th>\n",
       "      <th>region</th>\n",
       "    </tr>\n",
       "  </thead>\n",
       "  <tbody>\n",
       "    <tr>\n",
       "      <th>2</th>\n",
       "      <td>16777472</td>\n",
       "      <td>16778239</td>\n",
       "      <td>CN</td>\n",
       "      <td>China</td>\n",
       "    </tr>\n",
       "    <tr>\n",
       "      <th>3</th>\n",
       "      <td>16778240</td>\n",
       "      <td>16779263</td>\n",
       "      <td>AU</td>\n",
       "      <td>Australia</td>\n",
       "    </tr>\n",
       "    <tr>\n",
       "      <th>4</th>\n",
       "      <td>16779264</td>\n",
       "      <td>16781311</td>\n",
       "      <td>CN</td>\n",
       "      <td>China</td>\n",
       "    </tr>\n",
       "    <tr>\n",
       "      <th>5</th>\n",
       "      <td>16781312</td>\n",
       "      <td>16785407</td>\n",
       "      <td>JP</td>\n",
       "      <td>Japan</td>\n",
       "    </tr>\n",
       "    <tr>\n",
       "      <th>6</th>\n",
       "      <td>16785408</td>\n",
       "      <td>16793599</td>\n",
       "      <td>CN</td>\n",
       "      <td>China</td>\n",
       "    </tr>\n",
       "    <tr>\n",
       "      <th>...</th>\n",
       "      <td>...</td>\n",
       "      <td>...</td>\n",
       "      <td>...</td>\n",
       "      <td>...</td>\n",
       "    </tr>\n",
       "    <tr>\n",
       "      <th>174967</th>\n",
       "      <td>3758094336</td>\n",
       "      <td>3758095359</td>\n",
       "      <td>HK</td>\n",
       "      <td>Hong Kong</td>\n",
       "    </tr>\n",
       "    <tr>\n",
       "      <th>174968</th>\n",
       "      <td>3758095360</td>\n",
       "      <td>3758095871</td>\n",
       "      <td>CN</td>\n",
       "      <td>China</td>\n",
       "    </tr>\n",
       "    <tr>\n",
       "      <th>174969</th>\n",
       "      <td>3758095872</td>\n",
       "      <td>3758096127</td>\n",
       "      <td>SG</td>\n",
       "      <td>Singapore</td>\n",
       "    </tr>\n",
       "    <tr>\n",
       "      <th>174970</th>\n",
       "      <td>3758096128</td>\n",
       "      <td>3758096383</td>\n",
       "      <td>AU</td>\n",
       "      <td>Australia</td>\n",
       "    </tr>\n",
       "    <tr>\n",
       "      <th>174971</th>\n",
       "      <td>3758096384</td>\n",
       "      <td>4294967295</td>\n",
       "      <td>-</td>\n",
       "      <td>-</td>\n",
       "    </tr>\n",
       "  </tbody>\n",
       "</table>\n",
       "<p>174970 rows × 4 columns</p>\n",
       "</div>"
      ],
      "text/plain": [
       "               low        high code     region\n",
       "2         16777472    16778239   CN      China\n",
       "3         16778240    16779263   AU  Australia\n",
       "4         16779264    16781311   CN      China\n",
       "5         16781312    16785407   JP      Japan\n",
       "6         16785408    16793599   CN      China\n",
       "...            ...         ...  ...        ...\n",
       "174967  3758094336  3758095359   HK  Hong Kong\n",
       "174968  3758095360  3758095871   CN      China\n",
       "174969  3758095872  3758096127   SG  Singapore\n",
       "174970  3758096128  3758096383   AU  Australia\n",
       "174971  3758096384  4294967295    -          -\n",
       "\n",
       "[174970 rows x 4 columns]"
      ]
     },
     "execution_count": 32,
     "metadata": {},
     "output_type": "execute_result"
    }
   ],
   "source": [
    "df[2:]"
   ]
  },
  {
   "cell_type": "code",
   "execution_count": 54,
   "id": "southwest-rugby",
   "metadata": {},
   "outputs": [],
   "source": [
    "def ip_test(ips, index=0, result=[]):\n",
    "    while len(ips) > 0:\n",
    "        ip = ips.pop(0)\n",
    "        index %= len(df)\n",
    "        info = {}\n",
    "        t0 = time.time()\n",
    "        print(\"BEFORE: \", ip, index)\n",
    "        for low in df[\"low\"][index:]:\n",
    "            try:\n",
    "                assert (low <= int(netaddr.IPAddress(ip))) and (df[\"high\"].at[index] >= int(netaddr.IPAddress(ip)))\n",
    "                info[\"ip\"] = ip\n",
    "                info[\"int_ip\"] = int(netaddr.IPAddress(ip)) \n",
    "                info[\"region\"] = df[\"region\"][i] \n",
    "                info[\"ms\"] = (time.time() - t0) * 1000\n",
    "                result.append(info)\n",
    "            except:\n",
    "                index += 1\n",
    "    return result"
   ]
  },
  {
   "cell_type": "code",
   "execution_count": 55,
   "id": "heard-israel",
   "metadata": {},
   "outputs": [
    {
     "name": "stdout",
     "output_type": "stream",
     "text": [
      "BEFORE:  1.1.1.1 0\n",
      "BEFORE:  1.1.1.2 0\n",
      "BEFORE:  9.9.9.9 0\n",
      "BEFORE:  1.1.1.2 0\n"
     ]
    },
    {
     "data": {
      "text/plain": [
       "[]"
      ]
     },
     "execution_count": 55,
     "metadata": {},
     "output_type": "execute_result"
    }
   ],
   "source": [
    "ips = [\"1.1.1.1\",\"1.1.1.2\",\"9.9.9.9\",\"1.1.1.2\"]\n",
    "ip_test(ips, 0, [])"
   ]
  },
  {
   "cell_type": "code",
   "execution_count": 49,
   "id": "yellow-legend",
   "metadata": {},
   "outputs": [
    {
     "data": {
      "text/plain": [
       "9"
      ]
     },
     "execution_count": 49,
     "metadata": {},
     "output_type": "execute_result"
    }
   ],
   "source": [
    "9 % 10"
   ]
  },
  {
   "cell_type": "code",
   "execution_count": 52,
   "id": "acquired-prince",
   "metadata": {},
   "outputs": [],
   "source": [
    "test = 9\n",
    "test %= 2"
   ]
  },
  {
   "cell_type": "code",
   "execution_count": 53,
   "id": "curious-reality",
   "metadata": {},
   "outputs": [
    {
     "data": {
      "text/plain": [
       "1"
      ]
     },
     "execution_count": 53,
     "metadata": {},
     "output_type": "execute_result"
    }
   ],
   "source": [
    "test"
   ]
  },
  {
   "cell_type": "code",
   "execution_count": 56,
   "id": "incorporated-courtesy",
   "metadata": {},
   "outputs": [],
   "source": [
    "def ip_test(ips, index=0, result=[]):\n",
    "    while len(ips) > 0:\n",
    "        ip = ips.pop(0)\n",
    "        dic_t = {}\n",
    "        t0 = time.time()\n",
    "        try:\n",
    "            assert (df[\"high\"][index] >= int(netaddr.IPAddress(ip)) and df[\"low\"][index] <= int(netaddr.IPAddress(ip))), \"int_ip not in range\"\n",
    "            dic_t[\"ip\"] = ip \n",
    "            dic_t[\"int_ip\"] = int(netaddr.IPAddress(ip)) \n",
    "            dic_t[\"region\"] = df[\"region\"][index] \n",
    "            dic_t[\"ms\"] = (time.time() - t0) * 1000 \n",
    "            result.append(dic_t)\n",
    "            ip_test(ips, index, result)\n",
    "        except:\n",
    "            for low in df[\"low\"][index:]:\n",
    "                if low <= int(netaddr.IPAddress(ip)):\n",
    "                    index += 1\n",
    "            try:\n",
    "                assert (df[\"high\"][index-1] >= int(netaddr.IPAddress(ip)) and df[\"low\"][index-1] <= int(netaddr.IPAddress(ip))), \"int_ip not in range\"\n",
    "            except:\n",
    "                ip_test([ip],0,result)\n",
    "                continue\n",
    "            dic_t[\"ip\"] = ip \n",
    "            dic_t[\"int_ip\"] = int(netaddr.IPAddress(ip)) \n",
    "            dic_t[\"region\"] = df[\"region\"][index-1] \n",
    "            dic_t[\"ms\"] = (time.time() - t0) * 1000 \n",
    "            result.append(dic_t)\n",
    "            ip_test(ips, index-1, result)\n",
    "    return result"
   ]
  },
  {
   "cell_type": "code",
   "execution_count": 57,
   "id": "through-kingston",
   "metadata": {},
   "outputs": [
    {
     "data": {
      "text/plain": [
       "[{'ip': '1.1.1.1',\n",
       "  'int_ip': 16843009,\n",
       "  'region': 'United States of America',\n",
       "  'ms': 438.8093948364258},\n",
       " {'ip': '1.1.1.2',\n",
       "  'int_ip': 16843010,\n",
       "  'region': 'United States of America',\n",
       "  'ms': 0.030040740966796875},\n",
       " {'ip': '9.9.9.9',\n",
       "  'int_ip': 151587081,\n",
       "  'region': 'United States of America',\n",
       "  'ms': 426.0525703430176},\n",
       " {'ip': '1.1.1.2',\n",
       "  'int_ip': 16843010,\n",
       "  'region': 'United States of America',\n",
       "  'ms': 426.76830291748047}]"
      ]
     },
     "execution_count": 57,
     "metadata": {},
     "output_type": "execute_result"
    }
   ],
   "source": [
    "ips = [\"1.1.1.1\",\"1.1.1.2\",\"9.9.9.9\",\"1.1.1.2\"]\n",
    "ip_test(ips, 0, [])"
   ]
  },
  {
   "cell_type": "code",
   "execution_count": 66,
   "id": "embedded-kitty",
   "metadata": {},
   "outputs": [],
   "source": [
    "def ip_test(ips, index=0, result=[]):\n",
    "    while len(ips) > 0:\n",
    "        ip = ips.pop(0)\n",
    "        dic_t = {}\n",
    "        index %= len(df)\n",
    "        t0 = time.time()\n",
    "        for low in df[\"low\"][index:]:\n",
    "            index += 1\n",
    "            try:\n",
    "                assert (df[\"high\"][index-1] >= int(netaddr.IPAddress(ip)) and df[\"low\"][index-1] <= int(netaddr.IPAddress(ip))), \"int_ip not in range\"\n",
    "                dic_t[\"ip\"] = ip \n",
    "                dic_t[\"int_ip\"] = int(netaddr.IPAddress(ip)) \n",
    "                dic_t[\"region\"] = df[\"region\"][index-1] \n",
    "                dic_t[\"ms\"] = (time.time() - t0) * 1000\n",
    "                result.append(dic_t)\n",
    "            except:\n",
    "                index += 1\n",
    "        dic_t[\"ip\"] = ip \n",
    "        dic_t[\"int_ip\"] = int(netaddr.IPAddress(ip)) \n",
    "        dic_t[\"region\"] = df[\"region\"][index-1] \n",
    "        dic_t[\"ms\"] = (time.time() - t0) * 1000\n",
    "        result.append(dic_t)\n",
    "        ip_test(ips, index-1, result)\n",
    "    return result"
   ]
  },
  {
   "cell_type": "code",
   "execution_count": 67,
   "id": "differential-citizenship",
   "metadata": {},
   "outputs": [
    {
     "ename": "KeyError",
     "evalue": "349942",
     "output_type": "error",
     "traceback": [
      "\u001b[0;31m---------------------------------------------------------------------------\u001b[0m",
      "\u001b[0;31mValueError\u001b[0m                                Traceback (most recent call last)",
      "\u001b[0;32m~/.local/lib/python3.6/site-packages/pandas/core/indexes/range.py\u001b[0m in \u001b[0;36mget_loc\u001b[0;34m(self, key, method, tolerance)\u001b[0m\n\u001b[1;32m    354\u001b[0m                 \u001b[0;32mtry\u001b[0m\u001b[0;34m:\u001b[0m\u001b[0;34m\u001b[0m\u001b[0;34m\u001b[0m\u001b[0m\n\u001b[0;32m--> 355\u001b[0;31m                     \u001b[0;32mreturn\u001b[0m \u001b[0mself\u001b[0m\u001b[0;34m.\u001b[0m\u001b[0m_range\u001b[0m\u001b[0;34m.\u001b[0m\u001b[0mindex\u001b[0m\u001b[0;34m(\u001b[0m\u001b[0mnew_key\u001b[0m\u001b[0;34m)\u001b[0m\u001b[0;34m\u001b[0m\u001b[0;34m\u001b[0m\u001b[0m\n\u001b[0m\u001b[1;32m    356\u001b[0m                 \u001b[0;32mexcept\u001b[0m \u001b[0mValueError\u001b[0m \u001b[0;32mas\u001b[0m \u001b[0merr\u001b[0m\u001b[0;34m:\u001b[0m\u001b[0;34m\u001b[0m\u001b[0;34m\u001b[0m\u001b[0m\n",
      "\u001b[0;31mValueError\u001b[0m: 349942 is not in range",
      "\nThe above exception was the direct cause of the following exception:\n",
      "\u001b[0;31mKeyError\u001b[0m                                  Traceback (most recent call last)",
      "\u001b[0;32m<ipython-input-67-5e293cf512dc>\u001b[0m in \u001b[0;36m<module>\u001b[0;34m\u001b[0m\n\u001b[1;32m      1\u001b[0m \u001b[0mips\u001b[0m \u001b[0;34m=\u001b[0m \u001b[0;34m[\u001b[0m\u001b[0;34m\"1.1.1.1\"\u001b[0m\u001b[0;34m,\u001b[0m\u001b[0;34m\"1.1.1.2\"\u001b[0m\u001b[0;34m,\u001b[0m\u001b[0;34m\"9.9.9.9\"\u001b[0m\u001b[0;34m,\u001b[0m\u001b[0;34m\"1.1.1.2\"\u001b[0m\u001b[0;34m]\u001b[0m\u001b[0;34m\u001b[0m\u001b[0;34m\u001b[0m\u001b[0m\n\u001b[0;32m----> 2\u001b[0;31m \u001b[0mip_test\u001b[0m\u001b[0;34m(\u001b[0m\u001b[0mips\u001b[0m\u001b[0;34m,\u001b[0m \u001b[0;36m0\u001b[0m\u001b[0;34m,\u001b[0m \u001b[0;34m[\u001b[0m\u001b[0;34m]\u001b[0m\u001b[0;34m)\u001b[0m\u001b[0;34m\u001b[0m\u001b[0;34m\u001b[0m\u001b[0m\n\u001b[0m",
      "\u001b[0;32m<ipython-input-66-5ef7dbe1c1ad>\u001b[0m in \u001b[0;36mip_test\u001b[0;34m(ips, index, result)\u001b[0m\n\u001b[1;32m     17\u001b[0m         \u001b[0mdic_t\u001b[0m\u001b[0;34m[\u001b[0m\u001b[0;34m\"ip\"\u001b[0m\u001b[0;34m]\u001b[0m \u001b[0;34m=\u001b[0m \u001b[0mip\u001b[0m\u001b[0;34m\u001b[0m\u001b[0;34m\u001b[0m\u001b[0m\n\u001b[1;32m     18\u001b[0m         \u001b[0mdic_t\u001b[0m\u001b[0;34m[\u001b[0m\u001b[0;34m\"int_ip\"\u001b[0m\u001b[0;34m]\u001b[0m \u001b[0;34m=\u001b[0m \u001b[0mint\u001b[0m\u001b[0;34m(\u001b[0m\u001b[0mnetaddr\u001b[0m\u001b[0;34m.\u001b[0m\u001b[0mIPAddress\u001b[0m\u001b[0;34m(\u001b[0m\u001b[0mip\u001b[0m\u001b[0;34m)\u001b[0m\u001b[0;34m)\u001b[0m\u001b[0;34m\u001b[0m\u001b[0;34m\u001b[0m\u001b[0m\n\u001b[0;32m---> 19\u001b[0;31m         \u001b[0mdic_t\u001b[0m\u001b[0;34m[\u001b[0m\u001b[0;34m\"region\"\u001b[0m\u001b[0;34m]\u001b[0m \u001b[0;34m=\u001b[0m \u001b[0mdf\u001b[0m\u001b[0;34m[\u001b[0m\u001b[0;34m\"region\"\u001b[0m\u001b[0;34m]\u001b[0m\u001b[0;34m[\u001b[0m\u001b[0mindex\u001b[0m\u001b[0;34m-\u001b[0m\u001b[0;36m1\u001b[0m\u001b[0;34m]\u001b[0m\u001b[0;34m\u001b[0m\u001b[0;34m\u001b[0m\u001b[0m\n\u001b[0m\u001b[1;32m     20\u001b[0m         \u001b[0mdic_t\u001b[0m\u001b[0;34m[\u001b[0m\u001b[0;34m\"ms\"\u001b[0m\u001b[0;34m]\u001b[0m \u001b[0;34m=\u001b[0m \u001b[0;34m(\u001b[0m\u001b[0mtime\u001b[0m\u001b[0;34m.\u001b[0m\u001b[0mtime\u001b[0m\u001b[0;34m(\u001b[0m\u001b[0;34m)\u001b[0m \u001b[0;34m-\u001b[0m \u001b[0mt0\u001b[0m\u001b[0;34m)\u001b[0m \u001b[0;34m*\u001b[0m \u001b[0;36m1000\u001b[0m\u001b[0;34m\u001b[0m\u001b[0;34m\u001b[0m\u001b[0m\n\u001b[1;32m     21\u001b[0m         \u001b[0mresult\u001b[0m\u001b[0;34m.\u001b[0m\u001b[0mappend\u001b[0m\u001b[0;34m(\u001b[0m\u001b[0mdic_t\u001b[0m\u001b[0;34m)\u001b[0m\u001b[0;34m\u001b[0m\u001b[0;34m\u001b[0m\u001b[0m\n",
      "\u001b[0;32m~/.local/lib/python3.6/site-packages/pandas/core/series.py\u001b[0m in \u001b[0;36m__getitem__\u001b[0;34m(self, key)\u001b[0m\n\u001b[1;32m    880\u001b[0m \u001b[0;34m\u001b[0m\u001b[0m\n\u001b[1;32m    881\u001b[0m         \u001b[0;32melif\u001b[0m \u001b[0mkey_is_scalar\u001b[0m\u001b[0;34m:\u001b[0m\u001b[0;34m\u001b[0m\u001b[0;34m\u001b[0m\u001b[0m\n\u001b[0;32m--> 882\u001b[0;31m             \u001b[0;32mreturn\u001b[0m \u001b[0mself\u001b[0m\u001b[0;34m.\u001b[0m\u001b[0m_get_value\u001b[0m\u001b[0;34m(\u001b[0m\u001b[0mkey\u001b[0m\u001b[0;34m)\u001b[0m\u001b[0;34m\u001b[0m\u001b[0;34m\u001b[0m\u001b[0m\n\u001b[0m\u001b[1;32m    883\u001b[0m \u001b[0;34m\u001b[0m\u001b[0m\n\u001b[1;32m    884\u001b[0m         \u001b[0;32mif\u001b[0m \u001b[0mis_hashable\u001b[0m\u001b[0;34m(\u001b[0m\u001b[0mkey\u001b[0m\u001b[0;34m)\u001b[0m\u001b[0;34m:\u001b[0m\u001b[0;34m\u001b[0m\u001b[0;34m\u001b[0m\u001b[0m\n",
      "\u001b[0;32m~/.local/lib/python3.6/site-packages/pandas/core/series.py\u001b[0m in \u001b[0;36m_get_value\u001b[0;34m(self, label, takeable)\u001b[0m\n\u001b[1;32m    988\u001b[0m \u001b[0;34m\u001b[0m\u001b[0m\n\u001b[1;32m    989\u001b[0m         \u001b[0;31m# Similar to Index.get_value, but we do not fall back to positional\u001b[0m\u001b[0;34m\u001b[0m\u001b[0;34m\u001b[0m\u001b[0;34m\u001b[0m\u001b[0m\n\u001b[0;32m--> 990\u001b[0;31m         \u001b[0mloc\u001b[0m \u001b[0;34m=\u001b[0m \u001b[0mself\u001b[0m\u001b[0;34m.\u001b[0m\u001b[0mindex\u001b[0m\u001b[0;34m.\u001b[0m\u001b[0mget_loc\u001b[0m\u001b[0;34m(\u001b[0m\u001b[0mlabel\u001b[0m\u001b[0;34m)\u001b[0m\u001b[0;34m\u001b[0m\u001b[0;34m\u001b[0m\u001b[0m\n\u001b[0m\u001b[1;32m    991\u001b[0m         \u001b[0;32mreturn\u001b[0m \u001b[0mself\u001b[0m\u001b[0;34m.\u001b[0m\u001b[0mindex\u001b[0m\u001b[0;34m.\u001b[0m\u001b[0m_get_values_for_loc\u001b[0m\u001b[0;34m(\u001b[0m\u001b[0mself\u001b[0m\u001b[0;34m,\u001b[0m \u001b[0mloc\u001b[0m\u001b[0;34m,\u001b[0m \u001b[0mlabel\u001b[0m\u001b[0;34m)\u001b[0m\u001b[0;34m\u001b[0m\u001b[0;34m\u001b[0m\u001b[0m\n\u001b[1;32m    992\u001b[0m \u001b[0;34m\u001b[0m\u001b[0m\n",
      "\u001b[0;32m~/.local/lib/python3.6/site-packages/pandas/core/indexes/range.py\u001b[0m in \u001b[0;36mget_loc\u001b[0;34m(self, key, method, tolerance)\u001b[0m\n\u001b[1;32m    355\u001b[0m                     \u001b[0;32mreturn\u001b[0m \u001b[0mself\u001b[0m\u001b[0;34m.\u001b[0m\u001b[0m_range\u001b[0m\u001b[0;34m.\u001b[0m\u001b[0mindex\u001b[0m\u001b[0;34m(\u001b[0m\u001b[0mnew_key\u001b[0m\u001b[0;34m)\u001b[0m\u001b[0;34m\u001b[0m\u001b[0;34m\u001b[0m\u001b[0m\n\u001b[1;32m    356\u001b[0m                 \u001b[0;32mexcept\u001b[0m \u001b[0mValueError\u001b[0m \u001b[0;32mas\u001b[0m \u001b[0merr\u001b[0m\u001b[0;34m:\u001b[0m\u001b[0;34m\u001b[0m\u001b[0;34m\u001b[0m\u001b[0m\n\u001b[0;32m--> 357\u001b[0;31m                     \u001b[0;32mraise\u001b[0m \u001b[0mKeyError\u001b[0m\u001b[0;34m(\u001b[0m\u001b[0mkey\u001b[0m\u001b[0;34m)\u001b[0m \u001b[0;32mfrom\u001b[0m \u001b[0merr\u001b[0m\u001b[0;34m\u001b[0m\u001b[0;34m\u001b[0m\u001b[0m\n\u001b[0m\u001b[1;32m    358\u001b[0m             \u001b[0;32mraise\u001b[0m \u001b[0mKeyError\u001b[0m\u001b[0;34m(\u001b[0m\u001b[0mkey\u001b[0m\u001b[0;34m)\u001b[0m\u001b[0;34m\u001b[0m\u001b[0;34m\u001b[0m\u001b[0m\n\u001b[1;32m    359\u001b[0m         \u001b[0;32mreturn\u001b[0m \u001b[0msuper\u001b[0m\u001b[0;34m(\u001b[0m\u001b[0;34m)\u001b[0m\u001b[0;34m.\u001b[0m\u001b[0mget_loc\u001b[0m\u001b[0;34m(\u001b[0m\u001b[0mkey\u001b[0m\u001b[0;34m,\u001b[0m \u001b[0mmethod\u001b[0m\u001b[0;34m=\u001b[0m\u001b[0mmethod\u001b[0m\u001b[0;34m,\u001b[0m \u001b[0mtolerance\u001b[0m\u001b[0;34m=\u001b[0m\u001b[0mtolerance\u001b[0m\u001b[0;34m)\u001b[0m\u001b[0;34m\u001b[0m\u001b[0;34m\u001b[0m\u001b[0m\n",
      "\u001b[0;31mKeyError\u001b[0m: 349942"
     ]
    }
   ],
   "source": [
    "ips = [\"1.1.1.1\",\"1.1.1.2\",\"9.9.9.9\",\"1.1.1.2\"]\n",
    "ip_test(ips, 0, [])"
   ]
  },
  {
   "cell_type": "code",
   "execution_count": null,
   "id": "appreciated-unemployment",
   "metadata": {},
   "outputs": [],
   "source": []
  },
  {
   "cell_type": "code",
   "execution_count": null,
   "id": "informal-michael",
   "metadata": {},
   "outputs": [],
   "source": []
  }
 ],
 "metadata": {
  "kernelspec": {
   "display_name": "Python 3",
   "language": "python",
   "name": "python3"
  },
  "language_info": {
   "codemirror_mode": {
    "name": "ipython",
    "version": 3
   },
   "file_extension": ".py",
   "mimetype": "text/x-python",
   "name": "python",
   "nbconvert_exporter": "python",
   "pygments_lexer": "ipython3",
   "version": "3.6.9"
  }
 },
 "nbformat": 4,
 "nbformat_minor": 5
}
