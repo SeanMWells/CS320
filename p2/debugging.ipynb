{
 "cells": [
  {
   "cell_type": "code",
   "execution_count": 1,
   "id": "fossil-immigration",
   "metadata": {},
   "outputs": [],
   "source": [
    "from tree import *\n",
    "%load_ext autoreload\n",
    "%autoreload 2"
   ]
  },
  {
   "cell_type": "code",
   "execution_count": 2,
   "id": "frank-fortune",
   "metadata": {},
   "outputs": [],
   "source": [
    "tree_reader = ZippedCSVReader(\"trees.zip\")\n",
    "data_reader = ZippedCSVReader(\"mini.zip\")"
   ]
  },
  {
   "cell_type": "code",
   "execution_count": 3,
   "id": "ceramic-district",
   "metadata": {},
   "outputs": [
    {
     "name": "stdout",
     "output_type": "stream",
     "text": [
      "['il.csv', 'la.csv', 'wi.csv']\n"
     ]
    }
   ],
   "source": [
    "print(data_reader.paths)"
   ]
  },
  {
   "cell_type": "code",
   "execution_count": 4,
   "id": "cubic-examination",
   "metadata": {},
   "outputs": [
    {
     "name": "stdout",
     "output_type": "stream",
     "text": [
      "dict_keys(['field', 'threshold', 'left', 'right'])\n",
      "\n",
      "{'as_of_year': '2017', 'respondent_id': '33-0975529', 'agency_name': 'Department of Housing and Urban Development', 'agency_abbr': 'HUD', 'agency_code': '7', 'loan_type_name': 'VA-guaranteed', 'loan_type': '3', 'property_type_name': 'One-to-four family dwelling (other than manufactured housing)', 'property_type': '1', 'loan_purpose_name': 'Refinancing', 'loan_purpose': '3', 'owner_occupancy_name': 'Owner-occupied as a principal dwelling', 'owner_occupancy': '1', 'loan_amount_000s': '165', 'preapproval_name': 'Not applicable', 'preapproval': '3', 'action_taken_name': 'Loan originated', 'action_taken': '1', 'state_name': 'Wisconsin', 'state_abbr': 'WI', 'state_code': '55', 'county_name': 'Outagamie County', 'county_code': '87.0', 'applicant_ethnicity_name': 'Not Hispanic or Latino', 'applicant_ethnicity': '2', 'co_applicant_ethnicity_name': 'Not Hispanic or Latino', 'co_applicant_ethnicity': '2', 'applicant_race_name_1': 'White', 'applicant_race_1': '5', 'applicant_race_name_2': '', 'applicant_race_2': '', 'applicant_race_name_3': '', 'applicant_race_3': '', 'co_applicant_race_name_1': 'White', 'co_applicant_race_1': '5', 'co_applicant_race_name_2': '', 'co_applicant_race_2': '', 'applicant_sex_name': 'Male', 'applicant_sex': '1', 'co_applicant_sex_name': 'Female', 'co_applicant_sex': '2', 'applicant_income_000s': '57', 'purchaser_type_name': 'Life insurance company, credit union, mortgage bank, or finance company', 'purchaser_type': '7', 'denial_reason_name_1': '', 'denial_reason_1': '', 'denial_reason_name_2': '', 'denial_reason_2': '', 'population': '5765.0', 'minority_population': '24', 'hud_median_family_income': '74700'}\n",
      "\n",
      "60\n"
     ]
    }
   ],
   "source": [
    "tree = tree_reader.load_json(\"simple.json\")\n",
    "print(tree.keys())\n",
    "\n",
    "dict_list = data_reader.rows(\"wi.csv\")\n",
    "print()\n",
    "print(dict_list[0])\n",
    "\n",
    "dict_list = data_reader.rows()\n",
    "print()\n",
    "print(len(dict_list))"
   ]
  },
  {
   "cell_type": "code",
   "execution_count": 5,
   "id": "toxic-birthday",
   "metadata": {},
   "outputs": [],
   "source": [
    "loan = Loan(40, \"Home improvement\", \"Asian\", 120, \"approve\")"
   ]
  },
  {
   "cell_type": "code",
   "execution_count": 6,
   "id": "specified-dryer",
   "metadata": {},
   "outputs": [
    {
     "data": {
      "text/plain": [
       "Loan(40, 'Home improvement', 'Asian', 120, 'approve')"
      ]
     },
     "execution_count": 6,
     "metadata": {},
     "output_type": "execute_result"
    }
   ],
   "source": [
    "loan"
   ]
  },
  {
   "cell_type": "code",
   "execution_count": 7,
   "id": "imposed-revolution",
   "metadata": {},
   "outputs": [
    {
     "data": {
      "text/plain": [
       "40"
      ]
     },
     "execution_count": 7,
     "metadata": {},
     "output_type": "execute_result"
    }
   ],
   "source": [
    "loan[\"amount\"]"
   ]
  },
  {
   "cell_type": "code",
   "execution_count": 8,
   "id": "ultimate-inspector",
   "metadata": {},
   "outputs": [
    {
     "data": {
      "text/plain": [
       "'Home improvement'"
      ]
     },
     "execution_count": 8,
     "metadata": {},
     "output_type": "execute_result"
    }
   ],
   "source": [
    "loan[\"purpose\"]"
   ]
  },
  {
   "cell_type": "code",
   "execution_count": 9,
   "id": "destroyed-singing",
   "metadata": {},
   "outputs": [
    {
     "data": {
      "text/plain": [
       "0"
      ]
     },
     "execution_count": 9,
     "metadata": {},
     "output_type": "execute_result"
    }
   ],
   "source": [
    "loan[\"Refinance\"]"
   ]
  },
  {
   "cell_type": "code",
   "execution_count": 10,
   "id": "approved-tuner",
   "metadata": {},
   "outputs": [
    {
     "data": {
      "text/plain": [
       "1"
      ]
     },
     "execution_count": 10,
     "metadata": {},
     "output_type": "execute_result"
    }
   ],
   "source": [
    "loan[\"Asian\"]"
   ]
  },
  {
   "cell_type": "code",
   "execution_count": 11,
   "id": "daily-single",
   "metadata": {},
   "outputs": [
    {
     "data": {
      "text/plain": [
       "<tree.ZippedCSVReader at 0x7f5ee86efa58>"
      ]
     },
     "execution_count": 11,
     "metadata": {},
     "output_type": "execute_result"
    }
   ],
   "source": [
    "data_reader"
   ]
  },
  {
   "cell_type": "code",
   "execution_count": 12,
   "id": "therapeutic-cassette",
   "metadata": {},
   "outputs": [
    {
     "data": {
      "text/plain": [
       "<tree.Bank at 0x7f5ec33c6da0>"
      ]
     },
     "execution_count": 12,
     "metadata": {},
     "output_type": "execute_result"
    }
   ],
   "source": [
    "b = Bank(None, data_reader)\n",
    "b"
   ]
  },
  {
   "cell_type": "code",
   "execution_count": 13,
   "id": "instructional-values",
   "metadata": {
    "scrolled": true
   },
   "outputs": [
    {
     "name": "stdout",
     "output_type": "stream",
     "text": [
      "Loan(94, 'Refinancing', 'Information not provided by applicant in mail, Internet, or telephone application', 71, 'deny')\n",
      "Loan(55, 'Home purchase', 'White', 41, 'deny')\n",
      "Loan(20, 'Refinancing', 'Black or African American', 41, 'approve')\n",
      "Loan(22, 'Refinancing', 'White', 36, 'approve')\n",
      "Loan(175, 'Refinancing', 'White', 70, 'approve')\n",
      "Loan(191, 'Home purchase', 'Information not provided by applicant in mail, Internet, or telephone application', 68, 'approve')\n",
      "Loan(82, 'Refinancing', 'White', 40, 'deny')\n"
     ]
    }
   ],
   "source": [
    "b = Bank(\"NCUA\", data_reader)\n",
    "for loan in b.loans():\n",
    "    print(loan) # loan is of type Loan"
   ]
  },
  {
   "cell_type": "code",
   "execution_count": 14,
   "id": "front-grounds",
   "metadata": {},
   "outputs": [
    {
     "name": "stdout",
     "output_type": "stream",
     "text": [
      "['CFPB', 'FDIC', 'FRS', 'HUD', 'NCUA', 'OCC']\n"
     ]
    }
   ],
   "source": [
    "reader = ZippedCSVReader('loans.zip')\n",
    "names = get_bank_names(reader) # should be sorted alphabetically\n",
    "print(names)"
   ]
  },
  {
   "cell_type": "code",
   "execution_count": 15,
   "id": "integral-macintosh",
   "metadata": {},
   "outputs": [
    {
     "name": "stdout",
     "output_type": "stream",
     "text": [
      "Loan(175, 'Refinancing', 'White', 70, 'approve') predict: True\n",
      "approved: 1 denied 0\n",
      "Loan(145, 'Home purchase', 'White', 37, 'deny') predict: False\n",
      "approved: 1 denied 1\n",
      "Loan(200, 'Home purchase', 'White', 95, 'approve') predict: False\n",
      "approved: 1 denied 2\n",
      "Loan(414, 'Home purchase', 'White', 300, 'approve') predict: False\n",
      "approved: 1 denied 3\n",
      "Loan(22, 'Refinancing', 'White', 36, '1') predict: True\n",
      "approved: 2 denied 3\n"
     ]
    }
   ],
   "source": [
    "spred = SimplePredictor()\n",
    "my_loans = [Loan(175, 'Refinancing', 'White', 70, 'approve'),\n",
    "            Loan(145, 'Home purchase', 'White', 37, 'deny'),\n",
    "            Loan(200, 'Home purchase', 'White', 95, 'approve'),\n",
    "            Loan(414, 'Home purchase', 'White', 300, 'approve'),\n",
    "            Loan(22, 'Refinancing', 'White', 36, '1')]\n",
    "\n",
    "for loan in my_loans:\n",
    "    print(loan, 'predict:', spred.predict(loan))\n",
    "    print('approved:', spred.get_approved(), 'denied', spred.get_denied())"
   ]
  },
  {
   "cell_type": "code",
   "execution_count": 16,
   "id": "quantitative-voluntary",
   "metadata": {},
   "outputs": [],
   "source": [
    "node_dicts = {\n",
    "    \"field\": \"amount\",\n",
    "    \"threshold\": 200,\n",
    "    \"left\": \n",
    "        {\n",
    "        \"field\": \"income\",\n",
    "        \"threshold\": 35,\n",
    "        \"left\": \n",
    "            {\n",
    "            \"field\": \"class\",\n",
    "            \"threshold\": 0,\n",
    "            \"left\": None,\n",
    "            \"right\": None\n",
    "            },\n",
    "        \"right\": \n",
    "            {\n",
    "            \"field\": \"class\",\n",
    "            \"threshold\": 1,\n",
    "            \"left\": None,\n",
    "            \"right\": None\n",
    "            }\n",
    "    },\n",
    "    \"right\": \n",
    "        {\n",
    "        \"field\": \"income\",\n",
    "        \"threshold\": 70,\n",
    "        \"left\": \n",
    "            {\n",
    "            \"field\": \"class\",\n",
    "            \"threshold\": 0,\n",
    "            \"left\": None,\n",
    "            \"right\": None\n",
    "            },\n",
    "        \"right\": \n",
    "            {\n",
    "            \"field\": \"class\",\n",
    "            \"threshold\": 1,\n",
    "            \"left\": None,\n",
    "            \"right\": None\n",
    "        }\n",
    "    }\n",
    "}"
   ]
  },
  {
   "cell_type": "code",
   "execution_count": 17,
   "id": "activated-primary",
   "metadata": {},
   "outputs": [
    {
     "name": "stdout",
     "output_type": "stream",
     "text": [
      "amount <= 200\n",
      "  income <= 35\n",
      "    class=0\n",
      "    class=1\n",
      "  income <= 70\n",
      "    class=0\n",
      "    class=1\n"
     ]
    }
   ],
   "source": [
    "dt = DTree(node_dicts)\n",
    "dt.dump()"
   ]
  },
  {
   "cell_type": "code",
   "execution_count": 18,
   "id": "olive-gather",
   "metadata": {
    "scrolled": true
   },
   "outputs": [
    {
     "name": "stdout",
     "output_type": "stream",
     "text": [
      "amount <= 200\n",
      "  income <= 35\n",
      "    class=0\n",
      "    class=1\n",
      "  income <= 70\n",
      "    class=0\n",
      "    class=1\n"
     ]
    }
   ],
   "source": [
    "tree_reader = ZippedCSVReader(\"trees.zip\")\n",
    "dt = DTree(tree_reader.load_json(\"simple.json\"))\n",
    "dt.dump()"
   ]
  },
  {
   "cell_type": "code",
   "execution_count": 19,
   "id": "brown-afghanistan",
   "metadata": {},
   "outputs": [
    {
     "data": {
      "text/plain": [
       "61"
      ]
     },
     "execution_count": 19,
     "metadata": {},
     "output_type": "execute_result"
    }
   ],
   "source": [
    "tree_reader = ZippedCSVReader(\"trees.zip\")\n",
    "dt = DTree(tree_reader.load_json(\"good.json\"))\n",
    "dt.node_count()"
   ]
  },
  {
   "cell_type": "code",
   "execution_count": 20,
   "id": "tribal-tolerance",
   "metadata": {},
   "outputs": [
    {
     "data": {
      "text/plain": [
       "True"
      ]
     },
     "execution_count": 20,
     "metadata": {},
     "output_type": "execute_result"
    }
   ],
   "source": [
    "tree_reader = ZippedCSVReader(\"trees.zip\")\n",
    "dt = DTree(tree_reader.load_json(\"simple.json\"))\n",
    "loan = Loan(40, \"Home improvement\", \"Asian\", 120, \"approve\")\n",
    "dt.predict(loan)"
   ]
  },
  {
   "cell_type": "code",
   "execution_count": 21,
   "id": "coordinate-morrison",
   "metadata": {},
   "outputs": [
    {
     "name": "stdout",
     "output_type": "stream",
     "text": [
      "0.41123833757421546\n"
     ]
    }
   ],
   "source": [
    "b = Bank(None, ZippedCSVReader(\"loans.zip\"))\n",
    "dt = DTree(ZippedCSVReader(\"trees.zip\").load_json(\"bad.json\"))\n",
    "bias_percent = bias_test(b, dt, \"Black or African American\")\n",
    "print(bias_percent)"
   ]
  },
  {
   "cell_type": "code",
   "execution_count": null,
   "id": "dying-business",
   "metadata": {},
   "outputs": [],
   "source": []
  }
 ],
 "metadata": {
  "kernelspec": {
   "display_name": "Python 3",
   "language": "python",
   "name": "python3"
  },
  "language_info": {
   "codemirror_mode": {
    "name": "ipython",
    "version": 3
   },
   "file_extension": ".py",
   "mimetype": "text/x-python",
   "name": "python",
   "nbconvert_exporter": "python",
   "pygments_lexer": "ipython3",
   "version": "3.6.9"
  }
 },
 "nbformat": 4,
 "nbformat_minor": 5
}
