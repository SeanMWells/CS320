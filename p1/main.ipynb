{
 "cells": [
  {
   "cell_type": "code",
   "execution_count": 1,
   "id": "instant-thesaurus",
   "metadata": {},
   "outputs": [],
   "source": [
    "# project: p1\n",
    "# submitter: Smwells3\n",
    "# partner: none\n",
    "# hours: 15"
   ]
  },
  {
   "cell_type": "code",
   "execution_count": 2,
   "id": "least-robert",
   "metadata": {},
   "outputs": [],
   "source": [
    "from subprocess import check_output\n",
    "import pandas as pd\n",
    "from pandas import DataFrame as df, Series\n",
    "import matplotlib \n",
    "from matplotlib import pyplot as plt\n",
    "import json, os, random, time"
   ]
  },
  {
   "cell_type": "code",
   "execution_count": 3,
   "id": "motivated-smile",
   "metadata": {},
   "outputs": [
    {
     "name": "stdout",
     "output_type": "stream",
     "text": [
      "/home/seanwells/cs320/s21/p1/repo\n"
     ]
    }
   ],
   "source": [
    "cd repo"
   ]
  },
  {
   "cell_type": "code",
   "execution_count": 4,
   "id": "outer-locking",
   "metadata": {},
   "outputs": [
    {
     "data": {
      "text/plain": [
       "8"
      ]
     },
     "execution_count": 4,
     "metadata": {},
     "output_type": "execute_result"
    }
   ],
   "source": [
    "#q1\n",
    "output = check_output([\"git\", \"log\"])\n",
    "string = str(output, \"utf8\")\n",
    "split_text = string.splitlines()\n",
    "count = 0\n",
    "for line in split_text:\n",
    "    if \"commit\" in line:\n",
    "        count += 1\n",
    "count "
   ]
  },
  {
   "cell_type": "code",
   "execution_count": 5,
   "id": "surprised-horse",
   "metadata": {},
   "outputs": [
    {
     "data": {
      "text/plain": [
       "{'Steve': 3, 'Ada': 3, 'Linus': 2}"
      ]
     },
     "execution_count": 5,
     "metadata": {},
     "output_type": "execute_result"
    }
   ],
   "source": [
    "#q2\n",
    "author_dict = {}\n",
    "for line in split_text:\n",
    "    if \"Author\" in line:\n",
    "        author = line.split()[1]\n",
    "        if author in author_dict:\n",
    "            author_dict[author] += 1\n",
    "        else:\n",
    "            author_dict[author] = 1\n",
    "author_dict"
   ]
  },
  {
   "cell_type": "code",
   "execution_count": 6,
   "id": "imported-florence",
   "metadata": {},
   "outputs": [
    {
     "data": {
      "text/plain": [
       "Text(0.5, 0, '')"
      ]
     },
     "execution_count": 6,
     "metadata": {},
     "output_type": "execute_result"
    },
    {
     "data": {
      "image/png": "[encoded data removed]",
      "text/plain": [
       "<Figure size 144x216 with 1 Axes>"
      ]
     },
     "metadata": {
      "needs_background": "light"
     },
     "output_type": "display_data"
    }
   ],
   "source": [
    "#q3\n",
    "frame = {}\n",
    "frame[\"Author\"] = []\n",
    "frame[\"count\"] = []\n",
    "for author in author_dict:\n",
    "    frame[\"Author\"].append(author)\n",
    "for author in author_dict:\n",
    "    frame[\"count\"].append(author_dict[author])\n",
    "    \n",
    "author_data = df(frame)\n",
    "author_data = author_data.set_index(\"Author\")\n",
    "ax = author_data.plot.bar(figsize=(2,3),color=\"k\", legend=False, fontsize=12, yticks=(1,2,3))\n",
    "ax.spines[\"top\"].set_visible(False)\n",
    "ax.spines[\"right\"].set_visible(False)\n",
    "ax.set_ylabel(\"Commit Count\", fontsize=12)\n",
    "ax.set_xlabel(\"\")"
   ]
  },
  {
   "cell_type": "code",
   "execution_count": 7,
   "id": "paperback-electricity",
   "metadata": {},
   "outputs": [],
   "source": [
    "commits = []\n",
    "for line in split_text:\n",
    "    if \"commit\" in line:\n",
    "        commits.append(line.split()[1])\n",
    "commits.reverse()"
   ]
  },
  {
   "cell_type": "code",
   "execution_count": 8,
   "id": "minor-anderson",
   "metadata": {},
   "outputs": [],
   "source": [
    "authors = []\n",
    "for line in split_text:\n",
    "    if \"Author\" in line:\n",
    "        authors.append(line.split()[1])\n",
    "authors.reverse()\n",
    "#in prep of #8"
   ]
  },
  {
   "cell_type": "code",
   "execution_count": 9,
   "id": "expensive-graham",
   "metadata": {},
   "outputs": [],
   "source": [
    "def line_count():    \n",
    "    output = check_output([\"cat\", \"wc.py\"])\n",
    "    string = str(output, \"utf8\")\n",
    "    split_text = string.splitlines()\n",
    "    line_lengths.append(len(split_text))\n",
    "\n",
    "line_lengths = []\n",
    "for commit in commits:\n",
    "    check_output([\"git\", \"checkout\", commit])\n",
    "    line_count()"
   ]
  },
  {
   "cell_type": "code",
   "execution_count": 10,
   "id": "narrow-frost",
   "metadata": {},
   "outputs": [
    {
     "data": {
      "text/plain": [
       "[21, 35, 35, 39, 40, 40, 40, 43]"
      ]
     },
     "execution_count": 10,
     "metadata": {},
     "output_type": "execute_result"
    }
   ],
   "source": [
    "#q4\n",
    "line_lengths"
   ]
  },
  {
   "cell_type": "code",
   "execution_count": 11,
   "id": "talented-parcel",
   "metadata": {},
   "outputs": [
    {
     "data": {
      "text/plain": [
       "[21, 35, 35, 39, 40, 40, 40, 43]"
      ]
     },
     "execution_count": 11,
     "metadata": {},
     "output_type": "execute_result"
    },
    {
     "data": {
      "image/png": "[encoded data removed]",
      "text/plain": [
       "<Figure size 432x288 with 1 Axes>"
      ]
     },
     "metadata": {
      "needs_background": "light"
     },
     "output_type": "display_data"
    }
   ],
   "source": [
    "#q5\n",
    "length_series = Series(line_lengths)\n",
    "ax = length_series.plot.line(color=\"r\", fontsize=12, yticks=(0,10,20,30,40), xticks=(0,2,4,6))\n",
    "ax.set_xlabel(\"Commit\", fontsize=12)\n",
    "ax.set_ylabel(\"Lines\", fontsize=12)\n",
    "line_lengths"
   ]
  },
  {
   "cell_type": "code",
   "execution_count": 12,
   "id": "corrected-yukon",
   "metadata": {},
   "outputs": [],
   "source": [
    "def run_wc(body, commit=None):\n",
    "    if commit == None:\n",
    "        pass\n",
    "    else:\n",
    "        check_output([\"git\", \"checkout\", commit], universal_newlines=True)\n",
    "    file = open(\"test.txt\", \"w\")\n",
    "    file.write(body)\n",
    "    file.close()\n",
    "    output = check_output([\"python3\", \"wc.py\", \"test.txt\", \"ALL\"])\n",
    "    string = str(output, \"utf8\")\n",
    "    return(json.loads(string))"
   ]
  },
  {
   "cell_type": "code",
   "execution_count": 13,
   "id": "transparent-headquarters",
   "metadata": {},
   "outputs": [],
   "source": [
    "# test inputs to exercise wc.py\n",
    "# expected result: {'X': 1, 'Y': 1, 'Z': 1}\n",
    "test1 = \"\"\"X Y Z\"\"\"\n",
    "# expected result: {'A': 2, 'B': 1, 'C': 1}\n",
    "test2 = \"\"\"A B\n",
    "A C\n",
    "\"\"\"\n",
    "# expected result: {'A': 2, 'B': 1, 'C': 1}\n",
    "test3 = \"\"\"A B\n",
    "a c\n",
    "\"\"\""
   ]
  },
  {
   "cell_type": "code",
   "execution_count": 14,
   "id": "greatest-geometry",
   "metadata": {},
   "outputs": [
    {
     "data": {
      "text/plain": [
       "{'X': 1, 'Y': 1, 'Z': 1}"
      ]
     },
     "execution_count": 14,
     "metadata": {},
     "output_type": "execute_result"
    }
   ],
   "source": [
    "#q6\n",
    "run_wc(test1)"
   ]
  },
  {
   "cell_type": "code",
   "execution_count": 15,
   "id": "possible-schema",
   "metadata": {},
   "outputs": [
    {
     "data": {
      "text/plain": [
       "{'A': 2, 'B': 1, 'C': 1}"
      ]
     },
     "execution_count": 15,
     "metadata": {},
     "output_type": "execute_result"
    }
   ],
   "source": [
    "#q7\n",
    "run_wc(test3)"
   ]
  },
  {
   "cell_type": "code",
   "execution_count": 16,
   "id": "advisory-dietary",
   "metadata": {},
   "outputs": [],
   "source": [
    "def test_table(body, expected):\n",
    "    test_dict = {}\n",
    "    test_dict[\"commit\"] = commits\n",
    "    test_dict[\"author\"] = authors\n",
    "    test_dict[\"pass\"] = []\n",
    "    for commit in commits:\n",
    "        try:\n",
    "            dictionary = run_wc(body, commit)\n",
    "        except:\n",
    "            dictionary = \"crashed\"\n",
    "        if dictionary == expected:\n",
    "            test_dict[\"pass\"].append(\"True\")\n",
    "        else:\n",
    "            test_dict[\"pass\"].append(\"False\")\n",
    "    return df(test_dict)"
   ]
  },
  {
   "cell_type": "code",
   "execution_count": 17,
   "id": "scheduled-parameter",
   "metadata": {},
   "outputs": [
    {
     "data": {
      "text/html": [
       "<div>\n",
       "<style scoped>\n",
       "    .dataframe tbody tr th:only-of-type {\n",
       "        vertical-align: middle;\n",
       "    }\n",
       "\n",
       "    .dataframe tbody tr th {\n",
       "        vertical-align: top;\n",
       "    }\n",
       "\n",
       "    .dataframe thead th {\n",
       "        text-align: right;\n",
       "    }\n",
       "</style>\n",
       "<table border=\"1\" class=\"dataframe\">\n",
       "  <thead>\n",
       "    <tr style=\"text-align: right;\">\n",
       "      <th></th>\n",
       "      <th>commit</th>\n",
       "      <th>author</th>\n",
       "      <th>pass</th>\n",
       "    </tr>\n",
       "  </thead>\n",
       "  <tbody>\n",
       "    <tr>\n",
       "      <th>0</th>\n",
       "      <td>6d7beafb8e79b7a92fed8e67673a33bb7f607dbe</td>\n",
       "      <td>Ada</td>\n",
       "      <td>False</td>\n",
       "    </tr>\n",
       "    <tr>\n",
       "      <th>1</th>\n",
       "      <td>b0df6dbe111f9e28fc3a9c9b841cde5c20c365f9</td>\n",
       "      <td>Linus</td>\n",
       "      <td>True</td>\n",
       "    </tr>\n",
       "    <tr>\n",
       "      <th>2</th>\n",
       "      <td>761627a3ad9ee681f27211326e9149f01764ceee</td>\n",
       "      <td>Linus</td>\n",
       "      <td>True</td>\n",
       "    </tr>\n",
       "    <tr>\n",
       "      <th>3</th>\n",
       "      <td>6f5ca9327e986315ffcacddce5d9d6195c0913b7</td>\n",
       "      <td>Ada</td>\n",
       "      <td>True</td>\n",
       "    </tr>\n",
       "    <tr>\n",
       "      <th>4</th>\n",
       "      <td>f37e610ce055a3d894baac2d9449e6eb77c72320</td>\n",
       "      <td>Steve</td>\n",
       "      <td>True</td>\n",
       "    </tr>\n",
       "    <tr>\n",
       "      <th>5</th>\n",
       "      <td>c10b5a6cb4f06c96f6f221df2d5ec33af767d5c5</td>\n",
       "      <td>Ada</td>\n",
       "      <td>True</td>\n",
       "    </tr>\n",
       "    <tr>\n",
       "      <th>6</th>\n",
       "      <td>f637df3f45bc389e1035cc3aadcf5d81a55f0dc4</td>\n",
       "      <td>Steve</td>\n",
       "      <td>False</td>\n",
       "    </tr>\n",
       "    <tr>\n",
       "      <th>7</th>\n",
       "      <td>4e4128313b8d5b5e5d04f2e8e585f64f7c5831a4</td>\n",
       "      <td>Steve</td>\n",
       "      <td>True</td>\n",
       "    </tr>\n",
       "  </tbody>\n",
       "</table>\n",
       "</div>"
      ],
      "text/plain": [
       "                                     commit author   pass\n",
       "0  6d7beafb8e79b7a92fed8e67673a33bb7f607dbe    Ada  False\n",
       "1  b0df6dbe111f9e28fc3a9c9b841cde5c20c365f9  Linus   True\n",
       "2  761627a3ad9ee681f27211326e9149f01764ceee  Linus   True\n",
       "3  6f5ca9327e986315ffcacddce5d9d6195c0913b7    Ada   True\n",
       "4  f37e610ce055a3d894baac2d9449e6eb77c72320  Steve   True\n",
       "5  c10b5a6cb4f06c96f6f221df2d5ec33af767d5c5    Ada   True\n",
       "6  f637df3f45bc389e1035cc3aadcf5d81a55f0dc4  Steve  False\n",
       "7  4e4128313b8d5b5e5d04f2e8e585f64f7c5831a4  Steve   True"
      ]
     },
     "execution_count": 17,
     "metadata": {},
     "output_type": "execute_result"
    }
   ],
   "source": [
    "#q8\n",
    "test_table(test1, {'X': 1, 'Y': 1, 'Z': 1})"
   ]
  },
  {
   "cell_type": "code",
   "execution_count": 18,
   "id": "necessary-pleasure",
   "metadata": {},
   "outputs": [
    {
     "data": {
      "text/html": [
       "<div>\n",
       "<style scoped>\n",
       "    .dataframe tbody tr th:only-of-type {\n",
       "        vertical-align: middle;\n",
       "    }\n",
       "\n",
       "    .dataframe tbody tr th {\n",
       "        vertical-align: top;\n",
       "    }\n",
       "\n",
       "    .dataframe thead th {\n",
       "        text-align: right;\n",
       "    }\n",
       "</style>\n",
       "<table border=\"1\" class=\"dataframe\">\n",
       "  <thead>\n",
       "    <tr style=\"text-align: right;\">\n",
       "      <th></th>\n",
       "      <th>commit</th>\n",
       "      <th>author</th>\n",
       "      <th>pass</th>\n",
       "    </tr>\n",
       "  </thead>\n",
       "  <tbody>\n",
       "    <tr>\n",
       "      <th>0</th>\n",
       "      <td>6d7beafb8e79b7a92fed8e67673a33bb7f607dbe</td>\n",
       "      <td>Ada</td>\n",
       "      <td>False</td>\n",
       "    </tr>\n",
       "    <tr>\n",
       "      <th>1</th>\n",
       "      <td>b0df6dbe111f9e28fc3a9c9b841cde5c20c365f9</td>\n",
       "      <td>Linus</td>\n",
       "      <td>False</td>\n",
       "    </tr>\n",
       "    <tr>\n",
       "      <th>2</th>\n",
       "      <td>761627a3ad9ee681f27211326e9149f01764ceee</td>\n",
       "      <td>Linus</td>\n",
       "      <td>True</td>\n",
       "    </tr>\n",
       "    <tr>\n",
       "      <th>3</th>\n",
       "      <td>6f5ca9327e986315ffcacddce5d9d6195c0913b7</td>\n",
       "      <td>Ada</td>\n",
       "      <td>True</td>\n",
       "    </tr>\n",
       "    <tr>\n",
       "      <th>4</th>\n",
       "      <td>f37e610ce055a3d894baac2d9449e6eb77c72320</td>\n",
       "      <td>Steve</td>\n",
       "      <td>True</td>\n",
       "    </tr>\n",
       "    <tr>\n",
       "      <th>5</th>\n",
       "      <td>c10b5a6cb4f06c96f6f221df2d5ec33af767d5c5</td>\n",
       "      <td>Ada</td>\n",
       "      <td>True</td>\n",
       "    </tr>\n",
       "    <tr>\n",
       "      <th>6</th>\n",
       "      <td>f637df3f45bc389e1035cc3aadcf5d81a55f0dc4</td>\n",
       "      <td>Steve</td>\n",
       "      <td>False</td>\n",
       "    </tr>\n",
       "    <tr>\n",
       "      <th>7</th>\n",
       "      <td>4e4128313b8d5b5e5d04f2e8e585f64f7c5831a4</td>\n",
       "      <td>Steve</td>\n",
       "      <td>True</td>\n",
       "    </tr>\n",
       "  </tbody>\n",
       "</table>\n",
       "</div>"
      ],
      "text/plain": [
       "                                     commit author   pass\n",
       "0  6d7beafb8e79b7a92fed8e67673a33bb7f607dbe    Ada  False\n",
       "1  b0df6dbe111f9e28fc3a9c9b841cde5c20c365f9  Linus  False\n",
       "2  761627a3ad9ee681f27211326e9149f01764ceee  Linus   True\n",
       "3  6f5ca9327e986315ffcacddce5d9d6195c0913b7    Ada   True\n",
       "4  f37e610ce055a3d894baac2d9449e6eb77c72320  Steve   True\n",
       "5  c10b5a6cb4f06c96f6f221df2d5ec33af767d5c5    Ada   True\n",
       "6  f637df3f45bc389e1035cc3aadcf5d81a55f0dc4  Steve  False\n",
       "7  4e4128313b8d5b5e5d04f2e8e585f64f7c5831a4  Steve   True"
      ]
     },
     "execution_count": 18,
     "metadata": {},
     "output_type": "execute_result"
    }
   ],
   "source": [
    "#q9\n",
    "test_table(test2, {'A': 2, 'B': 1, 'C': 1})"
   ]
  },
  {
   "cell_type": "code",
   "execution_count": 19,
   "id": "polish-timothy",
   "metadata": {},
   "outputs": [
    {
     "data": {
      "text/html": [
       "<div>\n",
       "<style scoped>\n",
       "    .dataframe tbody tr th:only-of-type {\n",
       "        vertical-align: middle;\n",
       "    }\n",
       "\n",
       "    .dataframe tbody tr th {\n",
       "        vertical-align: top;\n",
       "    }\n",
       "\n",
       "    .dataframe thead th {\n",
       "        text-align: right;\n",
       "    }\n",
       "</style>\n",
       "<table border=\"1\" class=\"dataframe\">\n",
       "  <thead>\n",
       "    <tr style=\"text-align: right;\">\n",
       "      <th></th>\n",
       "      <th>commit</th>\n",
       "      <th>author</th>\n",
       "      <th>pass</th>\n",
       "    </tr>\n",
       "  </thead>\n",
       "  <tbody>\n",
       "    <tr>\n",
       "      <th>0</th>\n",
       "      <td>6d7beafb8e79b7a92fed8e67673a33bb7f607dbe</td>\n",
       "      <td>Ada</td>\n",
       "      <td>False</td>\n",
       "    </tr>\n",
       "    <tr>\n",
       "      <th>1</th>\n",
       "      <td>b0df6dbe111f9e28fc3a9c9b841cde5c20c365f9</td>\n",
       "      <td>Linus</td>\n",
       "      <td>False</td>\n",
       "    </tr>\n",
       "    <tr>\n",
       "      <th>2</th>\n",
       "      <td>761627a3ad9ee681f27211326e9149f01764ceee</td>\n",
       "      <td>Linus</td>\n",
       "      <td>False</td>\n",
       "    </tr>\n",
       "    <tr>\n",
       "      <th>3</th>\n",
       "      <td>6f5ca9327e986315ffcacddce5d9d6195c0913b7</td>\n",
       "      <td>Ada</td>\n",
       "      <td>True</td>\n",
       "    </tr>\n",
       "    <tr>\n",
       "      <th>4</th>\n",
       "      <td>f37e610ce055a3d894baac2d9449e6eb77c72320</td>\n",
       "      <td>Steve</td>\n",
       "      <td>True</td>\n",
       "    </tr>\n",
       "    <tr>\n",
       "      <th>5</th>\n",
       "      <td>c10b5a6cb4f06c96f6f221df2d5ec33af767d5c5</td>\n",
       "      <td>Ada</td>\n",
       "      <td>True</td>\n",
       "    </tr>\n",
       "    <tr>\n",
       "      <th>6</th>\n",
       "      <td>f637df3f45bc389e1035cc3aadcf5d81a55f0dc4</td>\n",
       "      <td>Steve</td>\n",
       "      <td>False</td>\n",
       "    </tr>\n",
       "    <tr>\n",
       "      <th>7</th>\n",
       "      <td>4e4128313b8d5b5e5d04f2e8e585f64f7c5831a4</td>\n",
       "      <td>Steve</td>\n",
       "      <td>True</td>\n",
       "    </tr>\n",
       "  </tbody>\n",
       "</table>\n",
       "</div>"
      ],
      "text/plain": [
       "                                     commit author   pass\n",
       "0  6d7beafb8e79b7a92fed8e67673a33bb7f607dbe    Ada  False\n",
       "1  b0df6dbe111f9e28fc3a9c9b841cde5c20c365f9  Linus  False\n",
       "2  761627a3ad9ee681f27211326e9149f01764ceee  Linus  False\n",
       "3  6f5ca9327e986315ffcacddce5d9d6195c0913b7    Ada   True\n",
       "4  f37e610ce055a3d894baac2d9449e6eb77c72320  Steve   True\n",
       "5  c10b5a6cb4f06c96f6f221df2d5ec33af767d5c5    Ada   True\n",
       "6  f637df3f45bc389e1035cc3aadcf5d81a55f0dc4  Steve  False\n",
       "7  4e4128313b8d5b5e5d04f2e8e585f64f7c5831a4  Steve   True"
      ]
     },
     "execution_count": 19,
     "metadata": {},
     "output_type": "execute_result"
    }
   ],
   "source": [
    "#q10\n",
    "test_table(test3, {'A': 2, 'B': 1, 'C': 1})\n",
    "#I'd say that this test is the most useful for evaluating the wc.py program since it incorporates a mix of upper and lower case words to test the program \n",
    "#also had the most number of commits fail to narrow the selection down"
   ]
  },
  {
   "cell_type": "code",
   "execution_count": 20,
   "id": "commercial-founder",
   "metadata": {},
   "outputs": [],
   "source": [
    "versions = {\n",
    "    \"v0-baseline\": \"6f5ca9327e986315ffcacddce5d9d6195c0913b7\",\n",
    "    \"v1-open-once\": \"f37e610ce055a3d894baac2d9449e6eb77c72320\",\n",
    "    \"v2-pass-per-uniq\": \"c10b5a6cb4f06c96f6f221df2d5ec33af767d5c5\",\n",
    "    \"v3-single-pass\": \"4e4128313b8d5b5e5d04f2e8e585f64f7c5831a4\",\n",
    "}\n",
    "alphabet = \"abcdefghijklmnopqrstuvwxyz\"\n",
    "def time_run_sec(uniq_words, total_words, word_size=6, commit=None):\n",
    "    unique_words = []\n",
    "    for length in range(uniq_words): \n",
    "        word = \"\"\n",
    "        for number in range(word_size): \n",
    "            word = word + random.choice(alphabet)\n",
    "        unique_words.append(word)\n",
    "    input_str = \"\"\n",
    "    for num in range(total_words): \n",
    "        input_str = input_str + \" \" + random.choice(unique_words)\n",
    "    times_wc = {}\n",
    "    for version in versions:\n",
    "        time1 = time.time()\n",
    "        run_wc(input_str, versions[version])\n",
    "        time2 = time.time()\n",
    "        total_time = time2 - time1\n",
    "        times_wc[version] = total_time\n",
    "    return df(Series(times_wc))\n",
    "\n",
    "def graph_time(uniq_words, total_words):    \n",
    "    example_df = time_run_sec(uniq_words, total_words)\n",
    "    example_df *= 1000\n",
    "    ax = example_df.plot.barh(figsize=(5,2), color=\"k\", legend=False, fontsize=12, logx=True)\n",
    "    ax.invert_yaxis()\n",
    "    ax.spines[\"top\"].set_visible(False)\n",
    "    ax.spines[\"right\"].set_visible(False)\n",
    "    ax.set_xlabel(\"Exec Time (ms)\", fontsize=12)"
   ]
  },
  {
   "cell_type": "code",
   "execution_count": 21,
   "id": "missing-spring",
   "metadata": {},
   "outputs": [
    {
     "data": {
      "image/png": "[encoded data removed]",
      "text/plain": [
       "<Figure size 360x144 with 1 Axes>"
      ]
     },
     "metadata": {
      "needs_background": "light"
     },
     "output_type": "display_data"
    }
   ],
   "source": [
    "#q11\n",
    "graph_time(100,5000)"
   ]
  },
  {
   "cell_type": "code",
   "execution_count": 22,
   "id": "unexpected-polyester",
   "metadata": {},
   "outputs": [
    {
     "data": {
      "image/png": "[encoded data removed]",
      "text/plain": [
       "<Figure size 360x144 with 1 Axes>"
      ]
     },
     "metadata": {
      "needs_background": "light"
     },
     "output_type": "display_data"
    }
   ],
   "source": [
    "#q12\n",
    "graph_time(1,5000)\n",
    "#It appears that v3 does better than v2 in situations where a large number of unique words are used in wc.py"
   ]
  },
  {
   "cell_type": "code",
   "execution_count": 23,
   "id": "published-planning",
   "metadata": {},
   "outputs": [],
   "source": [
    "def single_run_wc(uniq_words, total_words, version, word_size=6):\n",
    "    unique_words = []\n",
    "    check_output([\"git\", \"checkout\", versions[version]])\n",
    "    for length in range(round(uniq_words)): \n",
    "        word = \"\"\n",
    "        for number in range(word_size): \n",
    "            word = word + random.choice(alphabet)\n",
    "        unique_words.append(word)\n",
    "    input_str = \"\"\n",
    "    for num in range(total_words): \n",
    "        input_str = input_str + \" \" + random.choice(unique_words)\n",
    "    time1 = time.time()\n",
    "    run_wc(input_str, versions[version])\n",
    "    time2 = time.time()\n",
    "    total_time = time2 - time1\n",
    "    return total_time"
   ]
  },
  {
   "cell_type": "code",
   "execution_count": 24,
   "id": "german-hypothesis",
   "metadata": {},
   "outputs": [],
   "source": [
    "def performance_check(version):\n",
    "    check_output([\"git\", \"checkout\", versions[version]])\n",
    "    performance = pd.DataFrame(index=[1000, 2000, 5000, 10000], columns=[10, 5, 1])\n",
    "    performance.index.name = \"total words\"\n",
    "    performance.columns.name = \"percent uniq\"\n",
    "    for column in performance:\n",
    "        for index in performance.index:\n",
    "            percent = column/100\n",
    "            performance[column][index] = single_run_wc((percent * index), index, version, 6)\n",
    "    return performance"
   ]
  },
  {
   "cell_type": "code",
   "execution_count": 25,
   "id": "outer-region",
   "metadata": {},
   "outputs": [
    {
     "data": {
      "text/plain": [
       "<AxesSubplot:title={'center':'version 3'}, xlabel='total words'>"
      ]
     },
     "execution_count": 25,
     "metadata": {},
     "output_type": "execute_result"
    },
    {
     "data": {
      "image/png": "[encoded data removed]",
      "text/plain": [
       "<Figure size 864x288 with 2 Axes>"
      ]
     },
     "metadata": {
      "needs_background": "light"
     },
     "output_type": "display_data"
    }
   ],
   "source": [
    "#q13\n",
    "v2 = performance_check(\"v2-pass-per-uniq\")\n",
    "v3 = performance_check(\"v3-single-pass\")\n",
    "fig, axes = plt.subplots(ncols = 2, sharey = True, figsize=(12,4))\n",
    "v2.plot.line(ax=axes[0], legend=False, title=\"version 2\", ylabel=\"Time (s)\")\n",
    "v3.plot.line(ax=axes[1], title=\"version 3\")"
   ]
  },
  {
   "cell_type": "code",
   "execution_count": 26,
   "id": "smooth-cathedral",
   "metadata": {},
   "outputs": [],
   "source": [
    "class Commit:\n",
    "    def __init__(self, commit_hex, author, message):\n",
    "        self.commit_hex = str(commit_hex)\n",
    "        self.author = str(author)\n",
    "        self.message = str(message)\n",
    "        \n",
    "    def __str__(self):\n",
    "        return f\"{self.commit_hex}[{self.author}]: {self.message}\"\n",
    "        \n",
    "class Repo:\n",
    "    def __init__(self):\n",
    "        self.repo_history = {}\n",
    "        self.repo_list = []\n",
    "    \n",
    "    def commit(self, commit_hex, author, message):\n",
    "        commit = Commit(commit_hex, author, message)\n",
    "        self.repo_history[commit_hex] = commit\n",
    "        self.repo_list.append(commit)\n",
    "        return commit\n",
    "        \n",
    "    def __getitem__(self, lookup):\n",
    "        if type(lookup) == str:\n",
    "            lookup = lookup.upper().strip()\n",
    "            curr_commit = self.repo_history[lookup]\n",
    "        else:\n",
    "            index = int(lookup)\n",
    "            curr_commit = self.repo_list[index]\n",
    "        return str(curr_commit)"
   ]
  },
  {
   "cell_type": "code",
   "execution_count": 27,
   "id": "sought-singing",
   "metadata": {},
   "outputs": [
    {
     "data": {
      "text/plain": [
       "('A39DE2', 'Ben', 'added a readme', 'B143D0', 'Jaime', 'optimized the code')"
      ]
     },
     "execution_count": 27,
     "metadata": {},
     "output_type": "execute_result"
    }
   ],
   "source": [
    "#q14\n",
    "repo = Repo()\n",
    "c1 = repo.commit(\"A39DE2\", \"Aarushi\", \"created the repo\")\n",
    "c2 = repo.commit(\"D1E9C5\", \"Ben\", \"wrote some code\")\n",
    "c3 = repo.commit(\"AA0912\", \"Emma\", \"added a readme\")\n",
    "c4 = repo.commit(\"B143D0\", \"Hunter\", \"made some tests\")\n",
    "c5 = repo.commit(\"F0148D\", \"Jaime\", \"fixed a bug\")\n",
    "c6 = repo.commit(\"B978EE\", \"Wendy\", \"optimized the code\")\n",
    "c1.commit_hex, c2.author, c3.message, c4.commit_hex, c5.author, c6.message"
   ]
  },
  {
   "cell_type": "code",
   "execution_count": 28,
   "id": "structured-budapest",
   "metadata": {},
   "outputs": [
    {
     "data": {
      "text/plain": [
       "('A39DE2[Aarushi]: created the repo',\n",
       " 'D1E9C5[Ben]: wrote some code',\n",
       " 'B978EE[Wendy]: optimized the code')"
      ]
     },
     "execution_count": 28,
     "metadata": {},
     "output_type": "execute_result"
    }
   ],
   "source": [
    "#q15\n",
    "str(c1), str(repo[1]), str(repo[-1])"
   ]
  },
  {
   "cell_type": "code",
   "execution_count": 29,
   "id": "available-bubble",
   "metadata": {},
   "outputs": [
    {
     "data": {
      "text/plain": [
       "('F0148D[Jaime]: fixed a bug',\n",
       " 'B143D0[Hunter]: made some tests',\n",
       " 'AA0912[Emma]: added a readme')"
      ]
     },
     "execution_count": 29,
     "metadata": {},
     "output_type": "execute_result"
    }
   ],
   "source": [
    "#q16\n",
    "str(repo[\"F0148D\"]), str(repo[\"b143d0\"]), str(repo[\"  AA0912  \"])"
   ]
  }
 ],
 "metadata": {
  "kernelspec": {
   "display_name": "Python 3",
   "language": "python",
   "name": "python3"
  },
  "language_info": {
   "codemirror_mode": {
    "name": "ipython",
    "version": 3
   },
   "file_extension": ".py",
   "mimetype": "text/x-python",
   "name": "python",
   "nbconvert_exporter": "python",
   "pygments_lexer": "ipython3",
   "version": "3.6.9"
  }
 },
 "nbformat": 4,
 "nbformat_minor": 5
}
