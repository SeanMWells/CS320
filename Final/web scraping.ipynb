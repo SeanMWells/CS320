{
 "cells": [
  {
   "cell_type": "code",
   "execution_count": 1,
   "id": "divine-safety",
   "metadata": {},
   "outputs": [],
   "source": [
    "import pandas as pd\n",
    "import requests, json, csv, os\n",
    "from bs4 import BeautifulSoup"
   ]
  },
  {
   "cell_type": "code",
   "execution_count": 2,
   "id": "brown-trial",
   "metadata": {},
   "outputs": [],
   "source": [
    "#from https://stackoverflow.com/questions/312443/how-do-you-split-a-list-into-evenly-sized-chunks\n",
    "def chunks(lst, n):\n",
    "    \"\"\"Yield successive n-sized chunks from lst.\"\"\"\n",
    "    for i in range(0, len(lst), n):\n",
    "        yield lst[i:i + n]"
   ]
  },
  {
   "cell_type": "code",
   "execution_count": 3,
   "id": "blocked-surge",
   "metadata": {},
   "outputs": [],
   "source": [
    "def csv_creator(filename, header, data):\n",
    "    with open(filename, \"w\", newline='') as csvfile:\n",
    "        writer = csv.writer(csvfile)\n",
    "        writer.writerow(header)\n",
    "        for num in range(int(len(total_stats) / 19)):\n",
    "            info = next(data)\n",
    "            writer.writerow(info)"
   ]
  },
  {
   "cell_type": "code",
   "execution_count": 4,
   "id": "apart-government",
   "metadata": {},
   "outputs": [
    {
     "name": "stdout",
     "output_type": "stream",
     "text": [
      "1956 complete\n",
      "1957 complete\n",
      "1958 complete\n",
      "1959 complete\n",
      "1960 complete\n",
      "1961 complete\n",
      "1962 complete\n",
      "1963 complete\n",
      "1964 complete\n",
      "1965 complete\n",
      "1966 complete\n",
      "1967 complete\n",
      "1977 complete\n",
      "1978 complete\n",
      "1979 complete\n",
      "1980 complete\n",
      "1981 complete\n",
      "1982 complete\n",
      "1983 complete\n",
      "1984 complete\n",
      "1985 complete\n",
      "1986 complete\n",
      "1987 complete\n",
      "1988 complete\n",
      "1989 complete\n",
      "1990 complete\n",
      "1991 complete\n",
      "1992 complete\n",
      "1993 complete\n",
      "1994 complete\n",
      "1995 complete\n",
      "1996 complete\n",
      "1997 complete\n",
      "1998 complete\n",
      "1999 complete\n",
      "2000 complete\n",
      "2001 complete\n",
      "2002 complete\n",
      "2003 complete\n",
      "2004 complete\n",
      "2005 complete\n",
      "2006 complete\n",
      "2007 complete\n",
      "2008 complete\n",
      "2009 complete\n",
      "2010 complete\n",
      "2011 complete\n",
      "2012 complete\n",
      "2013 complete\n",
      "2014 complete\n",
      "2015 complete\n",
      "2016 complete\n",
      "2017 complete\n",
      "2018 complete\n",
      "2019 complete\n",
      "2020 complete\n"
     ]
    }
   ],
   "source": [
    "for year in range(1956,2021):\n",
    "    req = requests.get(\"https://www.basketball-reference.com/awards/awards_\" + str(year) + \".html\")\n",
    "    req.raise_for_status()\n",
    "    soup = BeautifulSoup(req.text)\n",
    "    table = soup.find(id=\"mvp\")\n",
    "    stats = list()\n",
    "    total_stats = list()\n",
    "    try:\n",
    "        for row in table.find_all(\"td\"):\n",
    "            stats.append(row.get(\"data-stat\"))\n",
    "            total_stats.append(row.text)\n",
    "        headers = stats[:19]\n",
    "        data = chunks(total_stats, 19)\n",
    "        csv_creator(os.path.join(\"Data\", str(year) + \".csv\"), headers, data)\n",
    "    except:\n",
    "        continue\n",
    "    print(year, \"complete\")"
   ]
  }
 ],
 "metadata": {
  "kernelspec": {
   "display_name": "Python 3",
   "language": "python",
   "name": "python3"
  },
  "language_info": {
   "codemirror_mode": {
    "name": "ipython",
    "version": 3
   },
   "file_extension": ".py",
   "mimetype": "text/x-python",
   "name": "python",
   "nbconvert_exporter": "python",
   "pygments_lexer": "ipython3",
   "version": "3.6.9"
  }
 },
 "nbformat": 4,
 "nbformat_minor": 5
}
